{
 "cells": [
  {
   "cell_type": "markdown",
   "id": "26385f3a",
   "metadata": {},
   "source": [
    "# Proyecto de predicción con regresión del dataset Global Super Store\n",
    "\n",
    "## Introducción\n",
    "Este proyecto se centra en el análisis y predicción de beneficios utilizando técnicas de regresión sobre el dataset Global Super Store. El objetivo principal es desarrollar modelos predictivos que nos ayuden a entender los factores que influyen en el beneficio (Profit) de la tienda.\n",
    "\n",
    "## Dataset\n",
    "El dataset Global Super Store contiene información detallada sobre ventas, envíos, productos y clientes de una tienda global. Incluye variables como fechas de pedido y envío, información del cliente, detalles del producto, ventas, descuentos y beneficios."
   ]
  },
  {
   "cell_type": "code",
   "execution_count": 3,
   "id": "de01eb00",
   "metadata": {},
   "outputs": [
    {
     "name": "stdout",
     "output_type": "stream",
     "text": [
      "Dimensiones del dataset: (51290, 24)\n"
     ]
    },
    {
     "data": {
      "application/vnd.microsoft.datawrangler.viewer.v0+json": {
       "columns": [
        {
         "name": "index",
         "rawType": "int64",
         "type": "integer"
        },
        {
         "name": "Row ID",
         "rawType": "int64",
         "type": "integer"
        },
        {
         "name": "Order ID",
         "rawType": "object",
         "type": "string"
        },
        {
         "name": "Order Date",
         "rawType": "object",
         "type": "string"
        },
        {
         "name": "Ship Date",
         "rawType": "object",
         "type": "string"
        },
        {
         "name": "Ship Mode",
         "rawType": "object",
         "type": "string"
        },
        {
         "name": "Customer ID",
         "rawType": "object",
         "type": "string"
        },
        {
         "name": "Customer Name",
         "rawType": "object",
         "type": "string"
        },
        {
         "name": "Segment",
         "rawType": "object",
         "type": "string"
        },
        {
         "name": "City",
         "rawType": "object",
         "type": "string"
        },
        {
         "name": "State",
         "rawType": "object",
         "type": "string"
        },
        {
         "name": "Country",
         "rawType": "object",
         "type": "string"
        },
        {
         "name": "Postal Code",
         "rawType": "float64",
         "type": "float"
        },
        {
         "name": "Market",
         "rawType": "object",
         "type": "string"
        },
        {
         "name": "Region",
         "rawType": "object",
         "type": "string"
        },
        {
         "name": "Product ID",
         "rawType": "object",
         "type": "string"
        },
        {
         "name": "Category",
         "rawType": "object",
         "type": "string"
        },
        {
         "name": "Sub-Category",
         "rawType": "object",
         "type": "string"
        },
        {
         "name": "Product Name",
         "rawType": "object",
         "type": "string"
        },
        {
         "name": "Sales",
         "rawType": "float64",
         "type": "float"
        },
        {
         "name": "Quantity",
         "rawType": "int64",
         "type": "integer"
        },
        {
         "name": "Discount",
         "rawType": "float64",
         "type": "float"
        },
        {
         "name": "Profit",
         "rawType": "float64",
         "type": "float"
        },
        {
         "name": "Shipping Cost",
         "rawType": "float64",
         "type": "float"
        },
        {
         "name": "Order Priority",
         "rawType": "object",
         "type": "string"
        }
       ],
       "ref": "35c8ab59-1641-406a-8ba3-70659857f27e",
       "rows": [
        [
         "0",
         "32298",
         "CA-2012-124891",
         "31-07-2012",
         "31-07-2012",
         "Same Day",
         "RH-19495",
         "Rick Hansen",
         "Consumer",
         "New York City",
         "New York",
         "United States",
         "10024.0",
         "US",
         "East",
         "TEC-AC-10003033",
         "Technology",
         "Accessories",
         "Plantronics CS510 - Over-the-Head monaural Wireless Headset System",
         "2309.65",
         "7",
         "0.0",
         "762.1845",
         "933.57",
         "Critical"
        ],
        [
         "1",
         "26341",
         "IN-2013-77878",
         "05-02-2013",
         "07-02-2013",
         "Second Class",
         "JR-16210",
         "Justin Ritter",
         "Corporate",
         "Wollongong",
         "New South Wales",
         "Australia",
         null,
         "APAC",
         "Oceania",
         "FUR-CH-10003950",
         "Furniture",
         "Chairs",
         "Novimex Executive Leather Armchair, Black",
         "3709.395",
         "9",
         "0.1",
         "-288.765",
         "923.63",
         "Critical"
        ],
        [
         "2",
         "25330",
         "IN-2013-71249",
         "17-10-2013",
         "18-10-2013",
         "First Class",
         "CR-12730",
         "Craig Reiter",
         "Consumer",
         "Brisbane",
         "Queensland",
         "Australia",
         null,
         "APAC",
         "Oceania",
         "TEC-PH-10004664",
         "Technology",
         "Phones",
         "Nokia Smart Phone, with Caller ID",
         "5175.171",
         "9",
         "0.1",
         "919.971",
         "915.49",
         "Medium"
        ],
        [
         "3",
         "13524",
         "ES-2013-1579342",
         "28-01-2013",
         "30-01-2013",
         "First Class",
         "KM-16375",
         "Katherine Murray",
         "Home Office",
         "Berlin",
         "Berlin",
         "Germany",
         null,
         "EU",
         "Central",
         "TEC-PH-10004583",
         "Technology",
         "Phones",
         "Motorola Smart Phone, Cordless",
         "2892.51",
         "5",
         "0.1",
         "-96.54",
         "910.16",
         "Medium"
        ],
        [
         "4",
         "47221",
         "SG-2013-4320",
         "05-11-2013",
         "06-11-2013",
         "Same Day",
         "RH-9495",
         "Rick Hansen",
         "Consumer",
         "Dakar",
         "Dakar",
         "Senegal",
         null,
         "Africa",
         "Africa",
         "TEC-SHA-10000501",
         "Technology",
         "Copiers",
         "Sharp Wireless Fax, High-Speed",
         "2832.96",
         "8",
         "0.0",
         "311.52",
         "903.04",
         "Critical"
        ],
        [
         "5",
         "22732",
         "IN-2013-42360",
         "28-06-2013",
         "01-07-2013",
         "Second Class",
         "JM-15655",
         "Jim Mitchum",
         "Corporate",
         "Sydney",
         "New South Wales",
         "Australia",
         null,
         "APAC",
         "Oceania",
         "TEC-PH-10000030",
         "Technology",
         "Phones",
         "Samsung Smart Phone, with Caller ID",
         "2862.675",
         "5",
         "0.1",
         "763.275",
         "897.35",
         "Critical"
        ],
        [
         "6",
         "30570",
         "IN-2011-81826",
         "07-11-2011",
         "09-11-2011",
         "First Class",
         "TS-21340",
         "Toby Swindell",
         "Consumer",
         "Porirua",
         "Wellington",
         "New Zealand",
         null,
         "APAC",
         "Oceania",
         "FUR-CH-10004050",
         "Furniture",
         "Chairs",
         "Novimex Executive Leather Armchair, Adjustable",
         "1822.08",
         "4",
         "0.0",
         "564.84",
         "894.77",
         "Critical"
        ],
        [
         "7",
         "31192",
         "IN-2012-86369",
         "14-04-2012",
         "18-04-2012",
         "Standard Class",
         "MB-18085",
         "Mick Brown",
         "Consumer",
         "Hamilton",
         "Waikato",
         "New Zealand",
         null,
         "APAC",
         "Oceania",
         "FUR-TA-10002958",
         "Furniture",
         "Tables",
         "Chromcraft Conference Table, Fully Assembled",
         "5244.84",
         "6",
         "0.0",
         "996.48",
         "878.38",
         "High"
        ],
        [
         "8",
         "40155",
         "CA-2014-135909",
         "14-10-2014",
         "21-10-2014",
         "Standard Class",
         "JW-15220",
         "Jane Waco",
         "Corporate",
         "Sacramento",
         "California",
         "United States",
         "95823.0",
         "US",
         "West",
         "OFF-BI-10003527",
         "Office Supplies",
         "Binders",
         "Fellowes PB500 Electric Punch Plastic Comb Binding Machine with Manual Bind",
         "5083.96",
         "5",
         "0.2",
         "1906.485",
         "867.69",
         "Low"
        ],
        [
         "9",
         "40936",
         "CA-2012-116638",
         "28-01-2012",
         "31-01-2012",
         "Second Class",
         "JH-15985",
         "Joseph Holt",
         "Consumer",
         "Concord",
         "North Carolina",
         "United States",
         "28027.0",
         "US",
         "South",
         "FUR-TA-10000198",
         "Furniture",
         "Tables",
         "Chromcraft Bull-Nose Wood Oval Conference Tables & Bases",
         "4297.644",
         "13",
         "0.4",
         "-1862.3124",
         "865.74",
         "Critical"
        ]
       ],
       "shape": {
        "columns": 24,
        "rows": 10
       }
      },
      "text/html": [
       "<div>\n",
       "<style scoped>\n",
       "    .dataframe tbody tr th:only-of-type {\n",
       "        vertical-align: middle;\n",
       "    }\n",
       "\n",
       "    .dataframe tbody tr th {\n",
       "        vertical-align: top;\n",
       "    }\n",
       "\n",
       "    .dataframe thead th {\n",
       "        text-align: right;\n",
       "    }\n",
       "</style>\n",
       "<table border=\"1\" class=\"dataframe\">\n",
       "  <thead>\n",
       "    <tr style=\"text-align: right;\">\n",
       "      <th></th>\n",
       "      <th>Row ID</th>\n",
       "      <th>Order ID</th>\n",
       "      <th>Order Date</th>\n",
       "      <th>Ship Date</th>\n",
       "      <th>Ship Mode</th>\n",
       "      <th>Customer ID</th>\n",
       "      <th>Customer Name</th>\n",
       "      <th>Segment</th>\n",
       "      <th>City</th>\n",
       "      <th>State</th>\n",
       "      <th>Country</th>\n",
       "      <th>Postal Code</th>\n",
       "      <th>Market</th>\n",
       "      <th>Region</th>\n",
       "      <th>Product ID</th>\n",
       "      <th>Category</th>\n",
       "      <th>Sub-Category</th>\n",
       "      <th>Product Name</th>\n",
       "      <th>Sales</th>\n",
       "      <th>Quantity</th>\n",
       "      <th>Discount</th>\n",
       "      <th>Profit</th>\n",
       "      <th>Shipping Cost</th>\n",
       "      <th>Order Priority</th>\n",
       "    </tr>\n",
       "  </thead>\n",
       "  <tbody>\n",
       "    <tr>\n",
       "      <th>0</th>\n",
       "      <td>32298</td>\n",
       "      <td>CA-2012-124891</td>\n",
       "      <td>31-07-2012</td>\n",
       "      <td>31-07-2012</td>\n",
       "      <td>Same Day</td>\n",
       "      <td>RH-19495</td>\n",
       "      <td>Rick Hansen</td>\n",
       "      <td>Consumer</td>\n",
       "      <td>New York City</td>\n",
       "      <td>New York</td>\n",
       "      <td>United States</td>\n",
       "      <td>10024.0</td>\n",
       "      <td>US</td>\n",
       "      <td>East</td>\n",
       "      <td>TEC-AC-10003033</td>\n",
       "      <td>Technology</td>\n",
       "      <td>Accessories</td>\n",
       "      <td>Plantronics CS510 - Over-the-Head monaural Wir...</td>\n",
       "      <td>2309.650</td>\n",
       "      <td>7</td>\n",
       "      <td>0.0</td>\n",
       "      <td>762.1845</td>\n",
       "      <td>933.57</td>\n",
       "      <td>Critical</td>\n",
       "    </tr>\n",
       "    <tr>\n",
       "      <th>1</th>\n",
       "      <td>26341</td>\n",
       "      <td>IN-2013-77878</td>\n",
       "      <td>05-02-2013</td>\n",
       "      <td>07-02-2013</td>\n",
       "      <td>Second Class</td>\n",
       "      <td>JR-16210</td>\n",
       "      <td>Justin Ritter</td>\n",
       "      <td>Corporate</td>\n",
       "      <td>Wollongong</td>\n",
       "      <td>New South Wales</td>\n",
       "      <td>Australia</td>\n",
       "      <td>NaN</td>\n",
       "      <td>APAC</td>\n",
       "      <td>Oceania</td>\n",
       "      <td>FUR-CH-10003950</td>\n",
       "      <td>Furniture</td>\n",
       "      <td>Chairs</td>\n",
       "      <td>Novimex Executive Leather Armchair, Black</td>\n",
       "      <td>3709.395</td>\n",
       "      <td>9</td>\n",
       "      <td>0.1</td>\n",
       "      <td>-288.7650</td>\n",
       "      <td>923.63</td>\n",
       "      <td>Critical</td>\n",
       "    </tr>\n",
       "    <tr>\n",
       "      <th>2</th>\n",
       "      <td>25330</td>\n",
       "      <td>IN-2013-71249</td>\n",
       "      <td>17-10-2013</td>\n",
       "      <td>18-10-2013</td>\n",
       "      <td>First Class</td>\n",
       "      <td>CR-12730</td>\n",
       "      <td>Craig Reiter</td>\n",
       "      <td>Consumer</td>\n",
       "      <td>Brisbane</td>\n",
       "      <td>Queensland</td>\n",
       "      <td>Australia</td>\n",
       "      <td>NaN</td>\n",
       "      <td>APAC</td>\n",
       "      <td>Oceania</td>\n",
       "      <td>TEC-PH-10004664</td>\n",
       "      <td>Technology</td>\n",
       "      <td>Phones</td>\n",
       "      <td>Nokia Smart Phone, with Caller ID</td>\n",
       "      <td>5175.171</td>\n",
       "      <td>9</td>\n",
       "      <td>0.1</td>\n",
       "      <td>919.9710</td>\n",
       "      <td>915.49</td>\n",
       "      <td>Medium</td>\n",
       "    </tr>\n",
       "    <tr>\n",
       "      <th>3</th>\n",
       "      <td>13524</td>\n",
       "      <td>ES-2013-1579342</td>\n",
       "      <td>28-01-2013</td>\n",
       "      <td>30-01-2013</td>\n",
       "      <td>First Class</td>\n",
       "      <td>KM-16375</td>\n",
       "      <td>Katherine Murray</td>\n",
       "      <td>Home Office</td>\n",
       "      <td>Berlin</td>\n",
       "      <td>Berlin</td>\n",
       "      <td>Germany</td>\n",
       "      <td>NaN</td>\n",
       "      <td>EU</td>\n",
       "      <td>Central</td>\n",
       "      <td>TEC-PH-10004583</td>\n",
       "      <td>Technology</td>\n",
       "      <td>Phones</td>\n",
       "      <td>Motorola Smart Phone, Cordless</td>\n",
       "      <td>2892.510</td>\n",
       "      <td>5</td>\n",
       "      <td>0.1</td>\n",
       "      <td>-96.5400</td>\n",
       "      <td>910.16</td>\n",
       "      <td>Medium</td>\n",
       "    </tr>\n",
       "    <tr>\n",
       "      <th>4</th>\n",
       "      <td>47221</td>\n",
       "      <td>SG-2013-4320</td>\n",
       "      <td>05-11-2013</td>\n",
       "      <td>06-11-2013</td>\n",
       "      <td>Same Day</td>\n",
       "      <td>RH-9495</td>\n",
       "      <td>Rick Hansen</td>\n",
       "      <td>Consumer</td>\n",
       "      <td>Dakar</td>\n",
       "      <td>Dakar</td>\n",
       "      <td>Senegal</td>\n",
       "      <td>NaN</td>\n",
       "      <td>Africa</td>\n",
       "      <td>Africa</td>\n",
       "      <td>TEC-SHA-10000501</td>\n",
       "      <td>Technology</td>\n",
       "      <td>Copiers</td>\n",
       "      <td>Sharp Wireless Fax, High-Speed</td>\n",
       "      <td>2832.960</td>\n",
       "      <td>8</td>\n",
       "      <td>0.0</td>\n",
       "      <td>311.5200</td>\n",
       "      <td>903.04</td>\n",
       "      <td>Critical</td>\n",
       "    </tr>\n",
       "    <tr>\n",
       "      <th>5</th>\n",
       "      <td>22732</td>\n",
       "      <td>IN-2013-42360</td>\n",
       "      <td>28-06-2013</td>\n",
       "      <td>01-07-2013</td>\n",
       "      <td>Second Class</td>\n",
       "      <td>JM-15655</td>\n",
       "      <td>Jim Mitchum</td>\n",
       "      <td>Corporate</td>\n",
       "      <td>Sydney</td>\n",
       "      <td>New South Wales</td>\n",
       "      <td>Australia</td>\n",
       "      <td>NaN</td>\n",
       "      <td>APAC</td>\n",
       "      <td>Oceania</td>\n",
       "      <td>TEC-PH-10000030</td>\n",
       "      <td>Technology</td>\n",
       "      <td>Phones</td>\n",
       "      <td>Samsung Smart Phone, with Caller ID</td>\n",
       "      <td>2862.675</td>\n",
       "      <td>5</td>\n",
       "      <td>0.1</td>\n",
       "      <td>763.2750</td>\n",
       "      <td>897.35</td>\n",
       "      <td>Critical</td>\n",
       "    </tr>\n",
       "    <tr>\n",
       "      <th>6</th>\n",
       "      <td>30570</td>\n",
       "      <td>IN-2011-81826</td>\n",
       "      <td>07-11-2011</td>\n",
       "      <td>09-11-2011</td>\n",
       "      <td>First Class</td>\n",
       "      <td>TS-21340</td>\n",
       "      <td>Toby Swindell</td>\n",
       "      <td>Consumer</td>\n",
       "      <td>Porirua</td>\n",
       "      <td>Wellington</td>\n",
       "      <td>New Zealand</td>\n",
       "      <td>NaN</td>\n",
       "      <td>APAC</td>\n",
       "      <td>Oceania</td>\n",
       "      <td>FUR-CH-10004050</td>\n",
       "      <td>Furniture</td>\n",
       "      <td>Chairs</td>\n",
       "      <td>Novimex Executive Leather Armchair, Adjustable</td>\n",
       "      <td>1822.080</td>\n",
       "      <td>4</td>\n",
       "      <td>0.0</td>\n",
       "      <td>564.8400</td>\n",
       "      <td>894.77</td>\n",
       "      <td>Critical</td>\n",
       "    </tr>\n",
       "    <tr>\n",
       "      <th>7</th>\n",
       "      <td>31192</td>\n",
       "      <td>IN-2012-86369</td>\n",
       "      <td>14-04-2012</td>\n",
       "      <td>18-04-2012</td>\n",
       "      <td>Standard Class</td>\n",
       "      <td>MB-18085</td>\n",
       "      <td>Mick Brown</td>\n",
       "      <td>Consumer</td>\n",
       "      <td>Hamilton</td>\n",
       "      <td>Waikato</td>\n",
       "      <td>New Zealand</td>\n",
       "      <td>NaN</td>\n",
       "      <td>APAC</td>\n",
       "      <td>Oceania</td>\n",
       "      <td>FUR-TA-10002958</td>\n",
       "      <td>Furniture</td>\n",
       "      <td>Tables</td>\n",
       "      <td>Chromcraft Conference Table, Fully Assembled</td>\n",
       "      <td>5244.840</td>\n",
       "      <td>6</td>\n",
       "      <td>0.0</td>\n",
       "      <td>996.4800</td>\n",
       "      <td>878.38</td>\n",
       "      <td>High</td>\n",
       "    </tr>\n",
       "    <tr>\n",
       "      <th>8</th>\n",
       "      <td>40155</td>\n",
       "      <td>CA-2014-135909</td>\n",
       "      <td>14-10-2014</td>\n",
       "      <td>21-10-2014</td>\n",
       "      <td>Standard Class</td>\n",
       "      <td>JW-15220</td>\n",
       "      <td>Jane Waco</td>\n",
       "      <td>Corporate</td>\n",
       "      <td>Sacramento</td>\n",
       "      <td>California</td>\n",
       "      <td>United States</td>\n",
       "      <td>95823.0</td>\n",
       "      <td>US</td>\n",
       "      <td>West</td>\n",
       "      <td>OFF-BI-10003527</td>\n",
       "      <td>Office Supplies</td>\n",
       "      <td>Binders</td>\n",
       "      <td>Fellowes PB500 Electric Punch Plastic Comb Bin...</td>\n",
       "      <td>5083.960</td>\n",
       "      <td>5</td>\n",
       "      <td>0.2</td>\n",
       "      <td>1906.4850</td>\n",
       "      <td>867.69</td>\n",
       "      <td>Low</td>\n",
       "    </tr>\n",
       "    <tr>\n",
       "      <th>9</th>\n",
       "      <td>40936</td>\n",
       "      <td>CA-2012-116638</td>\n",
       "      <td>28-01-2012</td>\n",
       "      <td>31-01-2012</td>\n",
       "      <td>Second Class</td>\n",
       "      <td>JH-15985</td>\n",
       "      <td>Joseph Holt</td>\n",
       "      <td>Consumer</td>\n",
       "      <td>Concord</td>\n",
       "      <td>North Carolina</td>\n",
       "      <td>United States</td>\n",
       "      <td>28027.0</td>\n",
       "      <td>US</td>\n",
       "      <td>South</td>\n",
       "      <td>FUR-TA-10000198</td>\n",
       "      <td>Furniture</td>\n",
       "      <td>Tables</td>\n",
       "      <td>Chromcraft Bull-Nose Wood Oval Conference Tabl...</td>\n",
       "      <td>4297.644</td>\n",
       "      <td>13</td>\n",
       "      <td>0.4</td>\n",
       "      <td>-1862.3124</td>\n",
       "      <td>865.74</td>\n",
       "      <td>Critical</td>\n",
       "    </tr>\n",
       "  </tbody>\n",
       "</table>\n",
       "</div>"
      ],
      "text/plain": [
       "   Row ID         Order ID  Order Date   Ship Date       Ship Mode  \\\n",
       "0   32298   CA-2012-124891  31-07-2012  31-07-2012        Same Day   \n",
       "1   26341    IN-2013-77878  05-02-2013  07-02-2013    Second Class   \n",
       "2   25330    IN-2013-71249  17-10-2013  18-10-2013     First Class   \n",
       "3   13524  ES-2013-1579342  28-01-2013  30-01-2013     First Class   \n",
       "4   47221     SG-2013-4320  05-11-2013  06-11-2013        Same Day   \n",
       "5   22732    IN-2013-42360  28-06-2013  01-07-2013    Second Class   \n",
       "6   30570    IN-2011-81826  07-11-2011  09-11-2011     First Class   \n",
       "7   31192    IN-2012-86369  14-04-2012  18-04-2012  Standard Class   \n",
       "8   40155   CA-2014-135909  14-10-2014  21-10-2014  Standard Class   \n",
       "9   40936   CA-2012-116638  28-01-2012  31-01-2012    Second Class   \n",
       "\n",
       "  Customer ID     Customer Name      Segment           City            State  \\\n",
       "0    RH-19495       Rick Hansen     Consumer  New York City         New York   \n",
       "1    JR-16210     Justin Ritter    Corporate     Wollongong  New South Wales   \n",
       "2    CR-12730      Craig Reiter     Consumer       Brisbane       Queensland   \n",
       "3    KM-16375  Katherine Murray  Home Office         Berlin           Berlin   \n",
       "4     RH-9495       Rick Hansen     Consumer          Dakar            Dakar   \n",
       "5    JM-15655       Jim Mitchum    Corporate         Sydney  New South Wales   \n",
       "6    TS-21340     Toby Swindell     Consumer        Porirua       Wellington   \n",
       "7    MB-18085        Mick Brown     Consumer       Hamilton          Waikato   \n",
       "8    JW-15220         Jane Waco    Corporate     Sacramento       California   \n",
       "9    JH-15985       Joseph Holt     Consumer        Concord   North Carolina   \n",
       "\n",
       "         Country  Postal Code  Market   Region        Product ID  \\\n",
       "0  United States      10024.0      US     East   TEC-AC-10003033   \n",
       "1      Australia          NaN    APAC  Oceania   FUR-CH-10003950   \n",
       "2      Australia          NaN    APAC  Oceania   TEC-PH-10004664   \n",
       "3        Germany          NaN      EU  Central   TEC-PH-10004583   \n",
       "4        Senegal          NaN  Africa   Africa  TEC-SHA-10000501   \n",
       "5      Australia          NaN    APAC  Oceania   TEC-PH-10000030   \n",
       "6    New Zealand          NaN    APAC  Oceania   FUR-CH-10004050   \n",
       "7    New Zealand          NaN    APAC  Oceania   FUR-TA-10002958   \n",
       "8  United States      95823.0      US     West   OFF-BI-10003527   \n",
       "9  United States      28027.0      US    South   FUR-TA-10000198   \n",
       "\n",
       "          Category Sub-Category  \\\n",
       "0       Technology  Accessories   \n",
       "1        Furniture       Chairs   \n",
       "2       Technology       Phones   \n",
       "3       Technology       Phones   \n",
       "4       Technology      Copiers   \n",
       "5       Technology       Phones   \n",
       "6        Furniture       Chairs   \n",
       "7        Furniture       Tables   \n",
       "8  Office Supplies      Binders   \n",
       "9        Furniture       Tables   \n",
       "\n",
       "                                        Product Name     Sales  Quantity  \\\n",
       "0  Plantronics CS510 - Over-the-Head monaural Wir...  2309.650         7   \n",
       "1          Novimex Executive Leather Armchair, Black  3709.395         9   \n",
       "2                  Nokia Smart Phone, with Caller ID  5175.171         9   \n",
       "3                     Motorola Smart Phone, Cordless  2892.510         5   \n",
       "4                     Sharp Wireless Fax, High-Speed  2832.960         8   \n",
       "5                Samsung Smart Phone, with Caller ID  2862.675         5   \n",
       "6     Novimex Executive Leather Armchair, Adjustable  1822.080         4   \n",
       "7       Chromcraft Conference Table, Fully Assembled  5244.840         6   \n",
       "8  Fellowes PB500 Electric Punch Plastic Comb Bin...  5083.960         5   \n",
       "9  Chromcraft Bull-Nose Wood Oval Conference Tabl...  4297.644        13   \n",
       "\n",
       "   Discount     Profit  Shipping Cost Order Priority  \n",
       "0       0.0   762.1845         933.57       Critical  \n",
       "1       0.1  -288.7650         923.63       Critical  \n",
       "2       0.1   919.9710         915.49         Medium  \n",
       "3       0.1   -96.5400         910.16         Medium  \n",
       "4       0.0   311.5200         903.04       Critical  \n",
       "5       0.1   763.2750         897.35       Critical  \n",
       "6       0.0   564.8400         894.77       Critical  \n",
       "7       0.0   996.4800         878.38           High  \n",
       "8       0.2  1906.4850         867.69            Low  \n",
       "9       0.4 -1862.3124         865.74       Critical  "
      ]
     },
     "execution_count": 3,
     "metadata": {},
     "output_type": "execute_result"
    }
   ],
   "source": [
    "import matplotlib.pyplot as plt\n",
    "import seaborn as sns\n",
    "import pandas as pd\n",
    "import numpy as np\n",
    "import time\n",
    "from sklearn.preprocessing import MinMaxScaler\n",
    "# --- Preprocesamiento y División ---\n",
    "from sklearn.model_selection import train_test_split, GridSearchCV\n",
    "# --- Métricas de Evaluación ---\n",
    "from sklearn.metrics import r2_score, mean_squared_error\n",
    "\n",
    "# --- Modelos de Regresión Lineal ---\n",
    "from sklearn.linear_model import LinearRegression, Ridge, Lasso\n",
    "\n",
    "# --- Modelos Basados en Árboles ---\n",
    "from sklearn.tree import DecisionTreeRegressor, plot_tree\n",
    "from sklearn.ensemble import RandomForestRegressor, GradientBoostingRegressor\n",
    "\n",
    "# Configuración de visualización\n",
    "plt.style.use('seaborn-v0_8')\n",
    "pd.set_option('display.max_columns', None)\n",
    "\n",
    "# Carga del dataset\n",
    "df = pd.read_csv('data/Global_Superstore2.csv', encoding='iso-8859-1')\n",
    "\n",
    "# Mostrar las primeras 10 filas del dataset\n",
    "print(\"Dimensiones del dataset:\", df.shape)\n",
    "df.head(10)"
   ]
  },
  {
   "cell_type": "markdown",
   "id": "51864841",
   "metadata": {},
   "source": [
    "## Análisis Exploratorio de Datos (EDA)\n",
    "\n",
    "### Análisis Inicial\n",
    "Comenzaremos con un análisis exploratorio para entender mejor nuestros datos. Primero, examinaremos:\n",
    "1. Tipos de datos y valores faltantes\n",
    "2. Estadísticas descriptivas básicas\n",
    "3. Distribución de variables numéricas clave"
   ]
  },
  {
   "cell_type": "code",
   "execution_count": 4,
   "id": "8529c095",
   "metadata": {},
   "outputs": [
    {
     "name": "stdout",
     "output_type": "stream",
     "text": [
      "Información del dataset:\n",
      "<class 'pandas.core.frame.DataFrame'>\n",
      "RangeIndex: 51290 entries, 0 to 51289\n",
      "Data columns (total 24 columns):\n",
      " #   Column          Non-Null Count  Dtype  \n",
      "---  ------          --------------  -----  \n",
      " 0   Row ID          51290 non-null  int64  \n",
      " 1   Order ID        51290 non-null  object \n",
      " 2   Order Date      51290 non-null  object \n",
      " 3   Ship Date       51290 non-null  object \n",
      " 4   Ship Mode       51290 non-null  object \n",
      " 5   Customer ID     51290 non-null  object \n",
      " 6   Customer Name   51290 non-null  object \n",
      " 7   Segment         51290 non-null  object \n",
      " 8   City            51290 non-null  object \n",
      " 9   State           51290 non-null  object \n",
      " 10  Country         51290 non-null  object \n",
      " 11  Postal Code     9994 non-null   float64\n",
      " 12  Market          51290 non-null  object \n",
      " 13  Region          51290 non-null  object \n",
      " 14  Product ID      51290 non-null  object \n",
      " 15  Category        51290 non-null  object \n",
      " 16  Sub-Category    51290 non-null  object \n",
      " 17  Product Name    51290 non-null  object \n",
      " 18  Sales           51290 non-null  float64\n",
      " 19  Quantity        51290 non-null  int64  \n",
      " 20  Discount        51290 non-null  float64\n",
      " 21  Profit          51290 non-null  float64\n",
      " 22  Shipping Cost   51290 non-null  float64\n",
      " 23  Order Priority  51290 non-null  object \n",
      "dtypes: float64(5), int64(2), object(17)\n",
      "memory usage: 9.4+ MB\n",
      "None\n",
      "\n",
      "Estadísticas descriptivas de las variables numéricas:\n",
      "            Row ID   Postal Code         Sales      Quantity      Discount  \\\n",
      "count  51290.00000   9994.000000  51290.000000  51290.000000  51290.000000   \n",
      "mean   25645.50000  55190.379428    246.490581      3.476545      0.142908   \n",
      "std    14806.29199  32063.693350    487.565361      2.278766      0.212280   \n",
      "min        1.00000   1040.000000      0.444000      1.000000      0.000000   \n",
      "25%    12823.25000  23223.000000     30.758625      2.000000      0.000000   \n",
      "50%    25645.50000  56430.500000     85.053000      3.000000      0.000000   \n",
      "75%    38467.75000  90008.000000    251.053200      5.000000      0.200000   \n",
      "max    51290.00000  99301.000000  22638.480000     14.000000      0.850000   \n",
      "\n",
      "             Profit  Shipping Cost  \n",
      "count  51290.000000   51290.000000  \n",
      "mean      28.610982      26.375915  \n",
      "std      174.340972      57.296804  \n",
      "min    -6599.978000       0.000000  \n",
      "25%        0.000000       2.610000  \n",
      "50%        9.240000       7.790000  \n",
      "75%       36.810000      24.450000  \n",
      "max     8399.976000     933.570000  \n",
      "\n",
      "--- Cuántos datos nulos hay ---\n",
      "Row ID                0\n",
      "Order ID              0\n",
      "Order Date            0\n",
      "Ship Date             0\n",
      "Ship Mode             0\n",
      "Customer ID           0\n",
      "Customer Name         0\n",
      "Segment               0\n",
      "City                  0\n",
      "State                 0\n",
      "Country               0\n",
      "Postal Code       41296\n",
      "Market                0\n",
      "Region                0\n",
      "Product ID            0\n",
      "Category              0\n",
      "Sub-Category          0\n",
      "Product Name          0\n",
      "Sales                 0\n",
      "Quantity              0\n",
      "Discount              0\n",
      "Profit                0\n",
      "Shipping Cost         0\n",
      "Order Priority        0\n",
      "dtype: int64\n",
      "\n",
      "--- Cuántos duplicados hay ---\n",
      "0\n"
     ]
    }
   ],
   "source": [
    "# Información general del dataset\n",
    "print(\"Información del dataset:\")\n",
    "print(df.info())\n",
    "\n",
    "print(\"\\nEstadísticas descriptivas de las variables numéricas:\")\n",
    "print(df.describe())\n",
    "\n",
    "print(\"\\n--- Cuántos datos nulos hay ---\")\n",
    "print(df.isnull().sum())\n",
    "\n",
    "print(\"\\n--- Cuántos duplicados hay ---\")\n",
    "print(df.duplicated().sum())"
   ]
  },
  {
   "cell_type": "code",
   "execution_count": 5,
   "id": "58c799c2",
   "metadata": {},
   "outputs": [],
   "source": [
    "# Convertir fechas (necesario para el cálculo)\n",
    "df['Order Date'] = pd.to_datetime(df['Order Date'], dayfirst=True)\n",
    "df['Ship Date'] = pd.to_datetime(df['Ship Date'], dayfirst=True)\n",
    "\n",
    "# Crear la nueva columna\n",
    "df['Days_to_Ship'] = (df['Ship Date'] - df['Order Date']).dt.days\n",
    "\n",
    "# Esta es la lista de columnas que quieres usar\n",
    "columnas_seleccionadas = [\n",
    "    'Profit', \n",
    "    'Sales', \n",
    "    'Quantity', \n",
    "    'Discount', \n",
    "    'Shipping Cost',\n",
    "    'Days_to_Ship',\n",
    "    'Ship Mode',\n",
    "    'Country',\n",
    "    'Product Name',\n",
    "    'Category',\n",
    "    'Sub-Category',\n",
    "    'Order Priority'\n",
    "]\n",
    "\n",
    "# Categóricas \"seguras\" (pocas opciones, buenas para get_dummies)\n",
    "categoricas_safe = [\n",
    "    'Ship Mode',\n",
    "    'Category',\n",
    "    'Sub-Category',\n",
    "    'Country',\n",
    "    'Order Priority'\n",
    "]\n",
    "\n",
    "# Categóricas \"problemáticas\" (miles de opciones, causan MemoryError)\n",
    "categoricas_problematicas = [\n",
    "    'Product Name'\n",
    "]"
   ]
  },
  {
   "cell_type": "markdown",
   "id": "47f34baa",
   "metadata": {},
   "source": [
    "## Ingeniería de Características\n",
    "\n",
    "Basándonos en el análisis exploratorio, realizaremos las siguientes transformaciones:\n",
    "\n",
    "1. Procesamiento de fechas:\n",
    "   - Crear variable de tiempo de envío\n",
    "   - Extraer mes y año de la fecha de orden\n",
    "\n",
    "2. Codificación de variables categóricas:\n",
    "   - One-hot encoding para Category, Sub-Category, Ship Mode\n",
    "   - Label encoding para variables con alta cardinalidad como Customer ID\n",
    "\n",
    "3. Eliminación de columnas redundantes o no informativas"
   ]
  },
  {
   "cell_type": "code",
   "execution_count": 6,
   "id": "ee9a2955",
   "metadata": {},
   "outputs": [
    {
     "name": "stdout",
     "output_type": "stream",
     "text": [
      "--- Aviso: Eliminando ['Product Name'] por alta cardinalidad ---\n",
      "\n",
      "--- Columnas después de la codificación (listas para el modelo) ---\n",
      "Index(['Profit', 'Sales', 'Quantity', 'Discount', 'Shipping Cost',\n",
      "       'Days_to_Ship', 'Ship Mode_Same Day', 'Ship Mode_Second Class',\n",
      "       'Ship Mode_Standard Class', 'Category_Office Supplies',\n",
      "       ...\n",
      "       'Country_Uruguay', 'Country_Uzbekistan', 'Country_Venezuela',\n",
      "       'Country_Vietnam', 'Country_Yemen', 'Country_Zambia',\n",
      "       'Country_Zimbabwe', 'Order Priority_High', 'Order Priority_Low',\n",
      "       'Order Priority_Medium'],\n",
      "      dtype='object', length=176)\n"
     ]
    }
   ],
   "source": [
    "# Filtramos el dataframe para quedarnos SÓLO con estas columnas\n",
    "# Nos aseguramos de que las columnas existan en df_temp\n",
    "columnas_a_usar = [col for col in columnas_seleccionadas if col in df.columns]\n",
    "df_limpio = df[columnas_a_usar]\n",
    "\n",
    "# AVISO: Eliminamos las columnas problemáticas para evitar el MemoryError.\n",
    "# Un modelo no puede manejar 40,000+ columnas de 'Product Name'.\n",
    "print(f\"--- Aviso: Eliminando {categoricas_problematicas} por alta cardinalidad ---\")\n",
    "df_procesado = df_limpio.drop(columns=categoricas_problematicas, errors='ignore')\n",
    "\n",
    "# Identificamos las categóricas 'safe' que SÍ están en el dataframe\n",
    "categoricas_a_codificar = [col for col in categoricas_safe if col in df_procesado.columns]\n",
    "\n",
    "# 5. Aplicamos get_dummies SOLAMENTE a las columnas seguras\n",
    "df_encoded = pd.get_dummies(df_procesado, columns=categoricas_a_codificar, drop_first=True)\n",
    "\n",
    "print(\"\\n--- Columnas después de la codificación (listas para el modelo) ---\")\n",
    "print(df_encoded.columns)"
   ]
  },
  {
   "cell_type": "markdown",
   "id": "bdd0f94a",
   "metadata": {},
   "source": [
    "### Análisis de Correlación entre Variables Relevantes\n",
    "\n",
    "Analizaremos las variables más importantes para nuestro modelo:\n",
    "1. Profit (variable objetivo)\n",
    "2. Sales\n",
    "3. Discount\n",
    "4. Category\n",
    "\n",
    "También examinaremos las correlaciones entre estas variables."
   ]
  },
  {
   "cell_type": "code",
   "execution_count": 7,
   "id": "f603ac23",
   "metadata": {},
   "outputs": [
    {
     "data": {
      "image/png": "[encoded data removed]",
      "text/plain": [
       "<Figure size 1000x700 with 2 Axes>"
      ]
     },
     "metadata": {},
     "output_type": "display_data"
    }
   ],
   "source": [
    "# Análisis de la variable objetivo (Profit)\n",
    "df_corr = df_encoded.copy()\n",
    "\n",
    "# Seleccionamos las columnas numéricas relevantes\n",
    "columnas_numericas = [\n",
    "    'Profit', \n",
    "    'Sales', \n",
    "    'Quantity', \n",
    "    'Discount', \n",
    "    'Shipping Cost',\n",
    "    'Days_to_Ship'\n",
    "]\n",
    "\n",
    "df_final_corr = df_corr[columnas_numericas]\n",
    "\n",
    "# Calculamos la matriz de correlación\n",
    "corr_matrix = df_final_corr.corr()\n",
    "\n",
    "# Graficamos el heatmap\n",
    "plt.figure(figsize=(10, 7))\n",
    "sns.heatmap(\n",
    "    corr_matrix, \n",
    "    annot=True,      # Muestra los números (coeficientes) en cada celda\n",
    "    fmt='.2f',       # Formatea los números a 2 decimales\n",
    "    cmap='coolwarm',\n",
    "    linewidths=0.5\n",
    ")\n",
    "plt.title('Matriz de Correlación de Variables Relevantes')\n",
    "plt.show()"
   ]
  },
  {
   "cell_type": "code",
   "execution_count": 8,
   "id": "2aafc090",
   "metadata": {},
   "outputs": [],
   "source": [
    "X = df_encoded.drop('Profit', axis=1)\n",
    "y = df_encoded['Profit']\n",
    "\n",
    "X_train, X_test, y_train, y_test = train_test_split(X, y, test_size=0.2, random_state=42)\n",
    "\n",
    "# Guardar los conjuntos de datos\n",
    "X_train.to_csv('data/X_train.csv', index=False)\n",
    "X_test.to_csv('data/X_test.csv', index=False)\n",
    "y_train.to_csv('data/y_train.csv', index=False)\n",
    "y_test.to_csv('data/y_test.csv', index=False)"
   ]
  },
  {
   "cell_type": "markdown",
   "id": "15745303",
   "metadata": {},
   "source": [
    "## Fase 1: Análisis de Línea Base (Modelos Lineales)\n",
    "\n",
    "En esta fase implementaremos tres modelos de regresión:\n",
    "1. Regresión Lineal Simple\n",
    "2. Ridge (L2)\n",
    "3. Lasso (L1)\n",
    "\n",
    "Evaluaremos su rendimiento utilizando las métricas R² y RMSE, y analizaremos la importancia de las variables en la predicción."
   ]
  },
  {
   "cell_type": "code",
   "execution_count": 9,
   "id": "73c127d6",
   "metadata": {},
   "outputs": [],
   "source": [
    "# Cargar datos preprocesados\n",
    "X_train = pd.read_csv('data/X_train.csv')\n",
    "X_test = pd.read_csv('data/X_test.csv')\n",
    "y_train = pd.read_csv('data/y_train.csv')\n",
    "y_test = pd.read_csv('data/y_test.csv')\n",
    "\n",
    "# Convertir y_train y y_test de DataFrame a Series\n",
    "y_train = y_train.iloc[:, 0]\n",
    "y_test = y_test.iloc[:, 0]\n",
    "\n",
    "# Función para evaluar modelos\n",
    "def evaluate_model(y_true, y_pred, model_name):\n",
    "    r2 = r2_score(y_true, y_pred)\n",
    "    rmse = np.sqrt(mean_squared_error(y_true, y_pred))\n",
    "    print(f\"\\nResultados para {model_name}:\")\n",
    "    print(f\"R² Score: {r2:.4f}\")\n",
    "    print(f\"RMSE: {rmse:.2f}\")\n",
    "    return r2, rmse"
   ]
  },
  {
   "cell_type": "markdown",
   "id": "5f57217f",
   "metadata": {},
   "source": [
    "### 1. Regresión Lineal Simple\n",
    "\n",
    "Comenzamos con un modelo de regresión lineal simple como línea base para nuestras predicciones."
   ]
  },
  {
   "cell_type": "code",
   "execution_count": 10,
   "id": "644afad9",
   "metadata": {},
   "outputs": [
    {
     "name": "stdout",
     "output_type": "stream",
     "text": [
      "Tiempo LinearRegression:\n",
      "0.20\n",
      "Evaluación del modelo de Regresión Lineal:\n",
      "\n",
      "Resultados para Regresión Lineal (train):\n",
      "R² Score: 0.3641\n",
      "RMSE: 139.36\n",
      "\n",
      "Resultados para Regresión Lineal (test):\n",
      "R² Score: 0.2646\n",
      "RMSE: 148.04\n"
     ]
    }
   ],
   "source": [
    "# Entrenar modelo de regresión lineal\n",
    "lr_model = LinearRegression()\n",
    "inicio = time.time()\n",
    "lr_model.fit(X_train, y_train)\n",
    "fin = time.time()\n",
    "lr_time = fin - inicio\n",
    "print(\"Tiempo LinearRegression:\")\n",
    "print(f\"{lr_time:.2f}\")\n",
    "# Predicciones\n",
    "lr_train_pred = lr_model.predict(X_train)\n",
    "lr_test_pred = lr_model.predict(X_test)\n",
    "\n",
    "# Evaluar modelo\n",
    "print(\"Evaluación del modelo de Regresión Lineal:\")\n",
    "lr_train_r2, lr_train_rmse = evaluate_model(y_train, lr_train_pred, \"Regresión Lineal (train)\")\n",
    "lr_test_r2, lr_test_rmse = evaluate_model(y_test, lr_test_pred, \"Regresión Lineal (test)\")"
   ]
  },
  {
   "cell_type": "markdown",
   "id": "73908982",
   "metadata": {},
   "source": [
    "### 2. Regularización Ridge (L2)\n",
    "\n",
    "Implementaremos Ridge con búsqueda de hiperparámetros usando GridSearchCV para encontrar el mejor valor de alpha."
   ]
  },
  {
   "cell_type": "code",
   "execution_count": 11,
   "id": "b04cba18",
   "metadata": {},
   "outputs": [
    {
     "name": "stdout",
     "output_type": "stream",
     "text": [
      "Tiempo Ridge:\n",
      "4.04\n",
      "Mejor valor de alpha para Ridge: 10.000000\n",
      "\n",
      "Evaluación del modelo Ridge:\n",
      "\n",
      "Resultados para Ridge (Train):\n",
      "R² Score: 0.3639\n",
      "RMSE: 139.38\n",
      "\n",
      "Resultados para Ridge (Test):\n",
      "R² Score: 0.2647\n",
      "RMSE: 148.03\n"
     ]
    }
   ],
   "source": [
    "# Definir parámetros para búsqueda\n",
    "alphas = np.logspace(-3, 1, 10)\n",
    "param_grid = {'alpha': alphas}\n",
    "\n",
    "# Crear y ajustar GridSearchCV\n",
    "ridge = Ridge()\n",
    "grid_ridge = GridSearchCV(ridge, param_grid, cv=5, scoring='r2')\n",
    "inicio = time.time()\n",
    "grid_ridge.fit(X_train, y_train)\n",
    "fin = time.time()\n",
    "ridge_time = fin - inicio\n",
    "print(\"Tiempo Ridge:\")\n",
    "print(f\"{ridge_time:.2f}\")\n",
    "\n",
    "# Mejor modelo Ridge\n",
    "best_ridge = grid_ridge.best_estimator_\n",
    "print(f\"Mejor valor de alpha para Ridge: {grid_ridge.best_params_['alpha']:.6f}\")\n",
    "\n",
    "# Predicciones con el mejor modelo Ridge\n",
    "ridge_train_pred = best_ridge.predict(X_train)\n",
    "ridge_test_pred = best_ridge.predict(X_test)\n",
    "\n",
    "# Evaluar modelo\n",
    "print(\"\\nEvaluación del modelo Ridge:\")\n",
    "ridge_train_r2, ridge_train_rmse = evaluate_model(y_train, ridge_train_pred, \"Ridge (Train)\")\n",
    "ridge_test_r2, ridge_test_rmse = evaluate_model(y_test, ridge_test_pred, \"Ridge (Test)\")"
   ]
  },
  {
   "cell_type": "markdown",
   "id": "98338094",
   "metadata": {},
   "source": [
    "### 3. Regularización Lasso (L1)\n",
    "\n",
    "Implementaremos Lasso con búsqueda de hiperparámetros. Este modelo nos ayudará a identificar las variables más importantes, ya que puede reducir coeficientes a cero."
   ]
  },
  {
   "cell_type": "code",
   "execution_count": 12,
   "id": "df8706f5",
   "metadata": {},
   "outputs": [
    {
     "name": "stdout",
     "output_type": "stream",
     "text": [
      "Tiempo Lasso:\n",
      "260.06\n",
      "Mejor valor de alpha para Lasso: 0.021544\n",
      "\n",
      "Evaluación del modelo Lasso:\n",
      "\n",
      "Resultados para Lasso (Train):\n",
      "R² Score: 0.3634\n",
      "RMSE: 139.44\n",
      "\n",
      "Resultados para Lasso (Test):\n",
      "R² Score: 0.2642\n",
      "RMSE: 148.08\n"
     ]
    }
   ],
   "source": [
    "# Crear y ajustar GridSearchCV para Lasso\n",
    "lasso = Lasso(max_iter=50000)\n",
    "grid_lasso = GridSearchCV(lasso, param_grid, cv=5, scoring='r2')\n",
    "inicio= time.time()\n",
    "grid_lasso.fit(X_train, y_train)\n",
    "fin = time.time()\n",
    "lasso_time = fin - inicio\n",
    "print(\"Tiempo Lasso:\")\n",
    "print(f\"{lasso_time:.2f}\")\n",
    "\n",
    "# Mejor modelo Lasso\n",
    "best_lasso = grid_lasso.best_estimator_\n",
    "print(f\"Mejor valor de alpha para Lasso: {grid_lasso.best_params_['alpha']:.6f}\")\n",
    "\n",
    "# Predicciones con el mejor modelo Lasso\n",
    "lasso_train_pred = best_lasso.predict(X_train)\n",
    "lasso_test_pred = best_lasso.predict(X_test)\n",
    "\n",
    "# Evaluar modelo\n",
    "print(\"\\nEvaluación del modelo Lasso:\")\n",
    "lasso_train_r2, lasso_train_rmse = evaluate_model(y_train, lasso_train_pred, \"Lasso (Train)\")\n",
    "lasso_test_r2, lasso_test_rmse = evaluate_model(y_test, lasso_test_pred, \"Lasso (Test)\")"
   ]
  },
  {
   "cell_type": "markdown",
   "id": "e8eba934",
   "metadata": {},
   "source": [
    "### Análisis de Coeficientes e Interpretación\n",
    "\n",
    "Analizaremos los coeficientes del modelo Lasso para entender qué variables son las más importantes para predecir el beneficio y cuáles tienen menor impacto o son eliminadas por el modelo."
   ]
  },
  {
   "cell_type": "code",
   "execution_count": 13,
   "id": "979ff521",
   "metadata": {},
   "outputs": [
    {
     "name": "stdout",
     "output_type": "stream",
     "text": [
      "Top 10 variables más importantes según Lasso:\n",
      "                   Feature  Coefficient  Abs_Coefficient\n",
      "2                 Discount  -239.257567       239.257567\n",
      "25     Sub-Category_Tables  -187.731722       187.731722\n",
      "92      Country_Kazakhstan    52.151366        52.151366\n",
      "171       Country_Zimbabwe    50.313545        50.313545\n",
      "160         Country_Uganda    45.894163        45.894163\n",
      "20   Sub-Category_Machines   -44.761919        44.761919\n",
      "119        Country_Nigeria    42.485918        42.485918\n",
      "158         Country_Turkey    42.081276        42.081276\n",
      "99       Country_Lithuania   -30.947839        30.947839\n",
      "125           Country_Peru    30.537998        30.537998\n",
      "\n",
      "Número de variables eliminadas por Lasso (coeficiente = 0): 90\n"
     ]
    },
    {
     "data": {
      "image/png": "[encoded data removed]",
      "text/plain": [
       "<Figure size 1200x600 with 1 Axes>"
      ]
     },
     "metadata": {},
     "output_type": "display_data"
    }
   ],
   "source": [
    "# Obtener coeficientes del modelo Lasso\n",
    "feature_names = X_train.columns\n",
    "coef_df = pd.DataFrame({\n",
    "    'Feature': feature_names,\n",
    "    'Coefficient': best_lasso.coef_\n",
    "})\n",
    "\n",
    "# Ordenar coeficientes por valor absoluto\n",
    "coef_df['Abs_Coefficient'] = abs(coef_df['Coefficient'])\n",
    "coef_df_sorted = coef_df.sort_values('Abs_Coefficient', ascending=False)\n",
    "\n",
    "# Mostrar los 10 coeficientes más importantes\n",
    "print(\"Top 10 variables más importantes según Lasso:\")\n",
    "print(coef_df_sorted.head(10))\n",
    "\n",
    "# Contar variables eliminadas (coeficientes = 0)\n",
    "zero_coef = len(coef_df[coef_df['Coefficient'] == 0])\n",
    "print(f\"\\nNúmero de variables eliminadas por Lasso (coeficiente = 0): {zero_coef}\")\n",
    "\n",
    "# Visualizar coeficientes más importantes\n",
    "plt.figure(figsize=(12, 6))\n",
    "sns.barplot(data=coef_df_sorted.head(10), x='Coefficient', y='Feature')\n",
    "plt.title('Top 10 variables más importantes (Lasso)')\n",
    "plt.xlabel('Coeficiente')\n",
    "plt.tight_layout()\n",
    "plt.show()"
   ]
  },
  {
   "cell_type": "markdown",
   "id": "cb5a690d",
   "metadata": {},
   "source": [
    "### Resumen de Resultados\n",
    "\n",
    "Hemos completado el análisis de línea base utilizando tres modelos diferentes:\n",
    "1. Regresión Lineal Simple: establece nuestra línea base de rendimiento\n",
    "2. Ridge: aplica regularización L2 para controlar la complejidad del modelo\n",
    "3. Lasso: aplica regularización L1 para selección de variables\n",
    "\n",
    "Los resultados nos muestran:\n",
    "- El rendimiento base en términos de R² y RMSE\n",
    "- Las variables más importantes identificadas por Lasso\n",
    "- Qué variables fueron eliminadas por completo\n",
    "- La interpretación de los coeficientes en términos de impacto en el beneficio\n",
    "\n",
    "Esta información nos servirá como punto de partida para futuros análisis y mejoras del modelo."
   ]
  },
  {
   "cell_type": "markdown",
   "id": "7d73a501",
   "metadata": {},
   "source": [
    "\"El Especialista en Árboles y Bagging* Se enfoca en los modelos no lineales basados en árboles y su primer ensemble.\n",
    "* Modelos:\n",
    "1. Árbol de Regresión (simple).\n",
    "2. Random Forest (Regressor).\n",
    "* Ajuste de Hiperparámetros:\n",
    "    * Ajustar (max_depth y min_samples. Leaf para el Árbol simple (para ver cómo sobreajusta).\n",
    "    * Ajustar _estimators. max depth y max_features para el Random Forest.\n",
    "* Preguntas a Responder:\n",
    "* ¿Supera un solo árbol a la regresión lineal? ¿Cuánto sobreajusta?\n",
    "* ¿Mejora Random Forest drásticamente al árbol simple?\n",
    "* ¿Cuáles son las importancias de variables ( feature importance_) según Random\n",
    "Forest?"
   ]
  },
  {
   "cell_type": "markdown",
   "id": "8493162e",
   "metadata": {},
   "source": [
    "### Análisis de Overfitting en Árboles de Regresión\n",
    "Este bloque de código entrena múltiples modelos DecisionTreeRegressor variando la profundidad máxima del árbol (max_depth) para analizar cómo afecta la complejidad del modelo al error de entrenamiento (train) y de prueba (test).\n",
    "\n",
    "Objetivo:\n",
    "- Evaluar el sobreajuste (overfitting) y subajuste (underfitting) observando la evolución del RMSE en función de la profundidad del árbol.\n",
    "- Determinar visualmente la profundidad óptima que equilibra buen rendimiento en test sin sobreajustar los datos de entrenamiento."
   ]
  },
  {
   "cell_type": "code",
   "execution_count": 14,
   "id": "0426c0cc",
   "metadata": {},
   "outputs": [
    {
     "data": {
      "image/png": "[encoded data removed]",
      "text/plain": [
       "<Figure size 1200x700 with 1 Axes>"
      ]
     },
     "metadata": {},
     "output_type": "display_data"
    }
   ],
   "source": [
    "# Cargar datos preprocesados\n",
    "X_train = pd.read_csv('data/X_train.csv')\n",
    "X_test = pd.read_csv('data/X_test.csv')\n",
    "y_train = pd.read_csv('data/y_train.csv')\n",
    "y_test = pd.read_csv('data/y_test.csv')\n",
    "\n",
    "# Convertir y_train y y_test de DataFrame a Series\n",
    "y_train = y_train.iloc[:, 0]\n",
    "y_test = y_test.iloc[:, 0]\n",
    "\n",
    "# DecisionTreeRegressor\n",
    "\n",
    "max_depths = range(1, 18)\n",
    "train_rmses = []\n",
    "test_rmses = []\n",
    "\n",
    "for depth in max_depths:\n",
    "    tree = DecisionTreeRegressor(max_depth=depth, random_state=42)\n",
    "    tree.fit(X_train, y_train)\n",
    "    # Error en train\n",
    "    y_pred_train = tree.predict(X_train)\n",
    "    train_rmses.append(np.sqrt(mean_squared_error(y_train, y_pred_train)))\n",
    "    \n",
    "    # Error en test\n",
    "    y_pred_test = tree.predict(X_test)\n",
    "    test_rmses.append(np.sqrt(mean_squared_error(y_test, y_pred_test)))\n",
    "\n",
    "# Graficamos los resultados\n",
    "plt.figure(figsize=(12, 7))\n",
    "plt.plot(max_depths, train_rmses, 'o-', label='Error de Entrenamiento (Train RMSE)')\n",
    "plt.plot(max_depths, test_rmses, 'o-', label='Error de Prueba (Test RMSE)')\n",
    "plt.xlabel('Profundidad del Árbol (max_depth)')\n",
    "plt.ylabel('RMSE')\n",
    "plt.title('Error del Árbol vs. Profundidad', fontsize=16)\n",
    "plt.legend()\n",
    "plt.grid(True)\n",
    "plt.show()"
   ]
  },
  {
   "cell_type": "markdown",
   "id": "9156633e",
   "metadata": {},
   "source": [
    "**Conclusión**:\n",
    "\n",
    "Cuando la profundidad del árbol es muy baja (1–3), tanto el error de entrenamiento como el de prueba son altos, lo que indica subajuste (underfitting): el modelo no tiene suficiente capacidad para aprender los patrones de los datos.\n",
    "\n",
    "A medida que aumenta la profundidad, el error de entrenamiento disminuye rápidamente, pero el error de prueba empieza a aumentar a partir de la profundidad 6, mostrando que el modelo comienza a sobreajustar (overfitting) los datos. Este es el “punto dulce” del modelo, es decir, la profundidad óptima donde el modelo generaliza mejor.\n",
    "\n",
    "Por tanto, en este dataset, el árbol con max_depth ≈ 6 logra un equilibrio entre precisión y generalización, evitando tanto el subajuste como el sobreajuste."
   ]
  },
  {
   "cell_type": "markdown",
   "id": "b0355cd8",
   "metadata": {},
   "source": [
    "### Evaluación del modelo Decision Tree Regressor con parámetros por defecto\n",
    "En este bloque se entrena un modelo de árbol de regresión (DecisionTreeRegressor) utilizando los conjuntos de entrenamiento y prueba previamente preparados.\n",
    "\n",
    "Se mide el rendimiento del modelo mediante las métricas RMSE (Root Mean Squared Error) y R² (coeficiente de determinación) sobre el conjunto de prueba, además del tiempo total de entrenamiento y predicción."
   ]
  },
  {
   "cell_type": "code",
   "execution_count": 15,
   "id": "cf455fdc",
   "metadata": {},
   "outputs": [
    {
     "name": "stdout",
     "output_type": "stream",
     "text": [
      "          Modelo  Tiempo Entrenamiento (s)  RMSE Test   R2 Test\n",
      "0  Random Forest                  0.683622  126.63685  0.461874\n"
     ]
    }
   ],
   "source": [
    "tree = DecisionTreeRegressor(random_state=42)\n",
    "inicio = time.time()\n",
    "tree.fit(X_train, y_train)\n",
    "fin = time.time()\n",
    "\n",
    "y_pred = tree.predict(X_test)\n",
    "tree_rmse = np.sqrt(mean_squared_error(y_test, y_pred))\n",
    "tree_r2 = r2_score(y_test, y_pred)\n",
    "tiempo = fin - inicio\n",
    "\n",
    "resultados_rf = pd.DataFrame({\n",
    "    \"Modelo\": [\"Random Forest\"],\n",
    "    \"Tiempo Entrenamiento (s)\": [tiempo],\n",
    "    \"RMSE Test\": [tree_rmse],\n",
    "    \"R2 Test\": [tree_r2]\n",
    "})\n",
    "\n",
    "print(resultados_rf)"
   ]
  },
  {
   "cell_type": "markdown",
   "id": "3b3ab32a",
   "metadata": {},
   "source": [
    "**Conclusión**:\n",
    "\n",
    "El modelo Decision Tree Regressor obtuvo un RMSE de 126.64 y un R² de 0.46, lo que indica que el árbol explica aproximadamente el 46% de la variabilidad de los datos.\n",
    "\n",
    "El tiempo de entrenamiento (0.56 s) es muy bajo.\n",
    "\n",
    "El modelo tiene una capacidad predictiva moderada y un rendimiento rápido, pero sería necesario ajustar sus hiperparámetros (como max_depth o min_samples_split) o usar modelos más robustos (como Random Forest o Gradient Boosting) para mejorar la precisión."
   ]
  },
  {
   "cell_type": "markdown",
   "id": "78d87d90",
   "metadata": {},
   "source": [
    "### Importancia de las características en el modelo Decision Tree Regressor \n",
    "\n",
    "Este código obtiene y analiza la importancia de las variables según el modelo DecisionTreeRegressor.\n",
    "\n",
    "Primero extrae los valores de feature_importances_, que indican cuánto contribuye cada variable a las predicciones del modelo.\n",
    "\n",
    "Luego, organiza los resultados en un DataFrame ordenado de mayor a menor importancia y muestra las 10 características más influyentes"
   ]
  },
  {
   "cell_type": "code",
   "execution_count": 16,
   "id": "eef75791",
   "metadata": {},
   "outputs": [
    {
     "name": "stdout",
     "output_type": "stream",
     "text": [
      "\n",
      "--- Top 10 Características Más Importantes ---\n",
      "                   Variable  Importancia\n",
      "0                     Sales     0.544305\n",
      "2                  Discount     0.287203\n",
      "3             Shipping Cost     0.038035\n",
      "1                  Quantity     0.022822\n",
      "4              Days_to_Ship     0.013142\n",
      "15     Sub-Category_Copiers     0.007056\n",
      "24    Sub-Category_Supplies     0.006920\n",
      "12     Sub-Category_Binders     0.005913\n",
      "6    Ship Mode_Second Class     0.004451\n",
      "164   Country_United States     0.004285\n"
     ]
    }
   ],
   "source": [
    "# Obtener la importancia de las características\n",
    "importances = tree.feature_importances_\n",
    "features = X_train.columns\n",
    "\n",
    "# Crear un DataFrame para ordenar y mostrar mejor\n",
    "feat_importance = pd.DataFrame({\n",
    "    'Variable': features,\n",
    "    'Importancia': importances\n",
    "}).sort_values(by='Importancia', ascending=False)\n",
    "\n",
    "# 1. Seleccionar solo el Top 10\n",
    "top_10_features = feat_importance.head(10)\n",
    "\n",
    "# 2. (Opcional) Imprimirlo en consola\n",
    "print(\"\\n--- Top 10 Características Más Importantes ---\")\n",
    "print(top_10_features)"
   ]
  },
  {
   "cell_type": "markdown",
   "id": "408e6617",
   "metadata": {},
   "source": [
    "**Conclusión**:\n",
    "\n",
    "Los resultados muestran que “Sales” (ventas) es, con diferencia, la variable más influyente en el modelo, representando más del 54% de la importancia total. Le siguen “Discount” (descuento) con un 28%, y en menor medida “Shipping Cost” y “Quantity”, que también aportan información relevante aunque mucho menos significativa.\n",
    "\n",
    "El precio y las promociones son los factores más determinantes para estimar el beneficio o el rendimiento en este conjunto de datos."
   ]
  },
  {
   "cell_type": "markdown",
   "id": "6c193d93",
   "metadata": {},
   "source": [
    "### Evaluación del modelo Random Forest Regressor con parámetros por defecto\n",
    "\n",
    "En este bloque de código se entrena un modelo Random Forest Regressor utilizando los conjuntos de entrenamiento y prueba previamente preparados.\n",
    "\n",
    "Se calculan las métricas RMSE (Root Mean Squared Error) y R² (coeficiente de determinación), además del tiempo total de entrenamiento y predicción, con el fin de medir el rendimiento y la eficiencia del modelo."
   ]
  },
  {
   "cell_type": "code",
   "execution_count": 17,
   "id": "3a4b61cb",
   "metadata": {},
   "outputs": [
    {
     "name": "stdout",
     "output_type": "stream",
     "text": [
      "          Modelo  Tiempo Entrenamiento (s)   RMSE Test   R2 Test\n",
      "0  Random Forest                  5.042597  101.332175  0.655445\n"
     ]
    }
   ],
   "source": [
    "rf = RandomForestRegressor(random_state=42, n_jobs = -1)\n",
    "inicio = time.time()\n",
    "rf.fit(X_train, y_train)\n",
    "fin = time.time()\n",
    "\n",
    "y_pred = rf.predict(X_test)\n",
    "forest_rmse = np.sqrt(mean_squared_error(y_test, y_pred))\n",
    "forest_r2 = r2_score(y_test, y_pred)\n",
    "tiempo = fin - inicio\n",
    "\n",
    "resultados_rf = pd.DataFrame({\n",
    "    \"Modelo\": [\"Random Forest\"],\n",
    "    \"Tiempo Entrenamiento (s)\": [tiempo],\n",
    "    \"RMSE Test\": [forest_rmse],\n",
    "    \"R2 Test\": [forest_r2]\n",
    "})\n",
    "\n",
    "print(resultados_rf)"
   ]
  },
  {
   "cell_type": "markdown",
   "id": "489879c4",
   "metadata": {},
   "source": [
    "**Conclusión**:\n",
    "\n",
    "El modelo Random Forest Regressor ha mejorado considerablemente respecto al árbol de decisión individual.\n",
    "El RMSE de 101.33 indica un menor error promedio en las predicciones, mientras que el R² de 0.66 muestra que el modelo explica alrededor del 66% de la variabilidad en los datos de prueba, lo cual es una mejora significativa frente al árbol simple (R² = 0.46).\n",
    "\n",
    "Aunque el tiempo de entrenamiento (3.26 segundos) es mayor debido al uso de múltiples árboles.\n",
    "\n",
    "Random Forest logra un mejor equilibrio entre precisión y generalización, reduciendo el sobreajuste y ofreciendo predicciones más estables y confiables."
   ]
  },
  {
   "cell_type": "markdown",
   "id": "2b821824",
   "metadata": {},
   "source": [
    "### Análisis de la Importancia de Variables con Random Forest\n",
    "\n",
    "Este código obtiene y analiza la importancia de las variables según el modelo RandomForestRegressor"
   ]
  },
  {
   "cell_type": "code",
   "execution_count": 18,
   "id": "f887722d",
   "metadata": {},
   "outputs": [
    {
     "name": "stdout",
     "output_type": "stream",
     "text": [
      "\n",
      "--- Top 10 Características Más Importantes (Random Forest) ---\n",
      "                  Variable  Importancia\n",
      "0                    Sales     0.543872\n",
      "2                 Discount     0.273006\n",
      "3            Shipping Cost     0.041882\n",
      "1                 Quantity     0.022537\n",
      "4             Days_to_Ship     0.015803\n",
      "15    Sub-Category_Copiers     0.008653\n",
      "20   Sub-Category_Machines     0.005432\n",
      "12    Sub-Category_Binders     0.005281\n",
      "172    Order Priority_High     0.004333\n",
      "174  Order Priority_Medium     0.004204\n"
     ]
    }
   ],
   "source": [
    "# 1. Obtener importancias del RandomForest\n",
    "importances_rf = rf.feature_importances_ \n",
    "features_rf = X_train.columns\n",
    "\n",
    "# 2. Crear DataFrame\n",
    "feat_importance_rf = pd.DataFrame({\n",
    "    'Variable': features_rf,\n",
    "    'Importancia': importances_rf\n",
    "}).sort_values(by='Importancia', ascending=False)\n",
    "\n",
    "# 3. Seleccionar solo el Top 10\n",
    "top_10_features_rf = feat_importance_rf.head(10)\n",
    "\n",
    "# 4. (Opcional) Imprimirlo en consola\n",
    "print(\"\\n--- Top 10 Características Más Importantes (Random Forest) ---\")\n",
    "print(top_10_features_rf)"
   ]
  },
  {
   "cell_type": "markdown",
   "id": "272ba03e",
   "metadata": {},
   "source": [
    "**Conclusión**:\n",
    "\n",
    "Al igual que con el DecisionTree, los resultados muestran que “Sales” (ventas) es, con diferencia, la variable más influyente en el modelo, representando más del 54% de la importancia total. Le siguen “Discount” (descuento) y en menor medida “Shipping Cost” y “Quantity”, que también aportan información relevante aunque mucho menos significativa.\n",
    "\n",
    "El precio y las promociones son los factores más determinantes para estimar el beneficio o el rendimiento en este conjunto de datos."
   ]
  },
  {
   "cell_type": "markdown",
   "id": "c977261b",
   "metadata": {},
   "source": [
    "### Optimización de Decision Tree con GridSearchCV\n",
    "\n",
    "Este código realiza una búsqueda de hiperparámetros para un DecisionTreeRegressor usando GridSearchCV. Se prueban distintos valores de max_depth, min_samples_split y min_samples_leaf para encontrar la combinación que minimice el RMSE en validación cruzada. Finalmente, se evalúa el modelo óptimo en el conjunto de prueba."
   ]
  },
  {
   "cell_type": "code",
   "execution_count": 19,
   "id": "63d62b22",
   "metadata": {},
   "outputs": [
    {
     "name": "stdout",
     "output_type": "stream",
     "text": [
      "                         Modelo  Tiempo Entrenamiento (s)  \\\n",
      "0  Random Forest (GridSearchCV)                  7.225942   \n",
      "\n",
      "                                  Mejores Parámetros  RMSE Test   R2 Test  \n",
      "0  {'max_depth': 8, 'min_samples_leaf': 2, 'min_s...  99.480995  0.667919  \n"
     ]
    }
   ],
   "source": [
    "tree = DecisionTreeRegressor(random_state=42)\n",
    "\n",
    "param_grid = {\n",
    "    'max_depth': [3, 5, 6, 8],\n",
    "    'min_samples_split': [2, 5, 10],\n",
    "    'min_samples_leaf': [1, 2, 4]\n",
    "}\n",
    "\n",
    "grid_search = GridSearchCV(\n",
    "    estimator=tree,\n",
    "    param_grid=param_grid,\n",
    "    cv=3,\n",
    "    scoring='neg_mean_squared_error',\n",
    "    n_jobs=-1,  # usa todos los núcleos disponibles\n",
    "    verbose=0\n",
    ")\n",
    "\n",
    "# Entrenar la búsqueda\n",
    "inicio = time.time()\n",
    "grid_search.fit(X_train, y_train)\n",
    "fin = time.time()\n",
    "tree_time = fin - inicio\n",
    "\n",
    "# Calcular el RMSE\n",
    "mejor_modelo = grid_search.best_estimator_\n",
    "y_pred = mejor_modelo.predict(X_test)\n",
    "\n",
    "tree_r2_final = r2_score(y_test, y_pred)\n",
    "tree_rmse_final = np.sqrt(mean_squared_error(y_test, y_pred))\n",
    "\n",
    "resultados_rf = pd.DataFrame({\n",
    "    \"Modelo\": [\"Random Forest (GridSearchCV)\"],\n",
    "    \"Tiempo Entrenamiento (s)\": [tree_time],\n",
    "    \"Mejores Parámetros\": [grid_search.best_params_],\n",
    "    \"RMSE Test\": [tree_rmse_final],\n",
    "    \"R2 Test\": [tree_r2_final]\n",
    "})\n",
    "\n",
    "print(resultados_rf)"
   ]
  },
  {
   "cell_type": "markdown",
   "id": "c43e0c2e",
   "metadata": {},
   "source": [
    "**Conclusión**:\n",
    "\n",
    "El DecisionTreeRegressor optimizado (RMSE 99.48, R² 0.67) mejora claramente respecto al Decision Tree anterior sin ajuste (RMSE 126.64, R² 0.46), reduciendo el error y aumentando la capacidad explicativa. Y mejora ligeramente respecto al Random Forest (RMSE 101.33, R² 0.66) tanto por RMSE como por R², pero tarda más que este en entrenarse."
   ]
  },
  {
   "cell_type": "markdown",
   "id": "bdaad8bd",
   "metadata": {},
   "source": [
    "### Optimización de Random Forest con GridSearchCV\n",
    "\n",
    "Este código entrena un RandomForestRegressor buscando automáticamente la mejor combinación de hiperparámetros (n_estimators y max_depth) usando GridSearchCV. Se calcula el tiempo de entrenamiento y se evalúa el modelo final en el conjunto de prueba mediante RMSE y R²."
   ]
  },
  {
   "cell_type": "code",
   "execution_count": 20,
   "id": "32218b68",
   "metadata": {},
   "outputs": [
    {
     "name": "stdout",
     "output_type": "stream",
     "text": [
      "                         Modelo  Tiempo Entrenamiento (s)  \\\n",
      "0  Random Forest (GridSearchCV)                 67.270178   \n",
      "\n",
      "                      Mejores Parámetros   RMSE Test  R2 Test  \n",
      "0  {'max_depth': 8, 'n_estimators': 200}  100.301298  0.66242  \n"
     ]
    }
   ],
   "source": [
    "forest = RandomForestRegressor(random_state=42)\n",
    "\n",
    "param_grid = {\n",
    "    'n_estimators': [100, 200],\n",
    "    'max_depth': [3, 6, 8]\n",
    "}\n",
    "\n",
    "grid_search = GridSearchCV(\n",
    "    estimator=forest,\n",
    "    param_grid=param_grid,\n",
    "    cv=3,\n",
    "    scoring='neg_mean_squared_error',\n",
    "    n_jobs=-1,  # usa todos los núcleos disponibles\n",
    "    verbose=0\n",
    ")\n",
    "\n",
    "inicio = time.time()\n",
    "grid_search.fit(X_train, y_train)\n",
    "fin = time.time()\n",
    "forest_time = fin - inicio\n",
    "\n",
    "# Calcular el RMSE\n",
    "best_rf = grid_search.best_estimator_\n",
    "y_pred = best_rf.predict(X_test)\n",
    "\n",
    "forest_r2_final = r2_score(y_test, y_pred)\n",
    "forest_rmse_final = np.sqrt(mean_squared_error(y_test, y_pred))\n",
    "\n",
    "resultados_rf = pd.DataFrame({\n",
    "    \"Modelo\": [\"Random Forest (GridSearchCV)\"],\n",
    "    \"Tiempo Entrenamiento (s)\": [forest_time],\n",
    "    \"Mejores Parámetros\": [grid_search.best_params_],\n",
    "    \"RMSE Test\": [forest_rmse_final],\n",
    "    \"R2 Test\": [forest_r2_final]\n",
    "})\n",
    "\n",
    "print(resultados_rf)"
   ]
  },
  {
   "cell_type": "markdown",
   "id": "e1d8c95a",
   "metadata": {},
   "source": [
    "**Conclusión**:\n",
    "\n",
    "Optimizar hiperparámetros en Random Forest no mejora mucho la precisión respecto al modelo por defecto (RMSE ≈ 101.33, R² ≈ 0.66, tiempo ≈ 3.26 s) para este dataset, mientras que un solo Decision Tree optimizado (RMSE ≈ 99.48, R² ≈ 0.67, tiempo ≈ 5.96 s) puede alcanzar un RMSE comparable con un coste de tiempo mucho menor."
   ]
  },
  {
   "cell_type": "markdown",
   "id": "3238e677",
   "metadata": {},
   "source": [
    "### Evaluación de las Variables de Importancia con Gradient Boosting\n",
    "Este análisis se enfoca en el modelo de ensemble más complejo y, a menudo, de mayor rendimiento: Gradient Boosting. El objetivo es determinar si el coste computacional adicional de este modelo se traduce en una mejora significativa de la predicción.\n",
    "\n",
    "1. Modelo Implementado\n",
    "Gradient Boosting (Regressor): Se utiliza la implementación de GradientBoostingRegressor (por ejemplo, de Scikit-learn). A diferencia de Random Forest (que construye árboles en paralelo), Gradient Boosting construye árboles de forma secuencial, donde cada nuevo árbol intenta corregir los errores residuales del ensemble anterior."
   ]
  },
  {
   "cell_type": "code",
   "execution_count": 21,
   "id": "87c64749",
   "metadata": {},
   "outputs": [
    {
     "name": "stdout",
     "output_type": "stream",
     "text": [
      "Iniciando entrenamiento de Gradient Boosting (Default)...\n",
      "\n",
      "Entrenamiento completado en 9.43 segundos.\n",
      "\n",
      "Evaluación del modelo Gradient Boosting (Default):\n",
      "\n",
      "Resultados para Gradient Boosting Default (Train):\n",
      "R² Score: 0.8177\n",
      "RMSE: 74.63\n",
      "\n",
      "Resultados para Gradient Boosting Default (Test):\n",
      "R² Score: 0.6805\n",
      "RMSE: 97.59\n"
     ]
    }
   ],
   "source": [
    "# --- 1. Modelo Gradient Boosting (SIN AJUSTAR / Default) ---\n",
    "print(\"Iniciando entrenamiento de Gradient Boosting (Default)...\")\n",
    "\n",
    "# Definir el modelo con hiperparámetros por defecto\n",
    "# Dejamos 'random_state' para reproducibilidad\n",
    "gb_model_default = GradientBoostingRegressor(random_state=42)\n",
    "\n",
    "# Medir el tiempo de entrenamiento\n",
    "start_time = time.time()\n",
    "gb_model_default.fit(X_train, y_train)\n",
    "end_time = time.time()\n",
    "\n",
    "gb_training_time_default = end_time - start_time\n",
    "print(f\"\\nEntrenamiento completado en {gb_training_time_default:.2f} segundos.\")\n",
    "\n",
    "# --- 2. Evaluación del modelo Gradient Boosting (Default) ---\n",
    "\n",
    "print(\"\\nEvaluación del modelo Gradient Boosting (Default):\")\n",
    "\n",
    "# Predicciones\n",
    "gb_train_pred_default = gb_model_default.predict(X_train)\n",
    "gb_test_pred_default = gb_model_default.predict(X_test)\n",
    "\n",
    "# Evaluar\n",
    "# (Asegúrate de tener la función 'evaluate_model' definida en una celda anterior)\n",
    "try:\n",
    "    evaluate_model(y_train, gb_train_pred_default, \"Gradient Boosting Default (Train)\")\n",
    "    gb_test_r2_default, gb_test_rmse_default = evaluate_model(y_test, gb_test_pred_default, \"Gradient Boosting Default (Test)\")\n",
    "except NameError:\n",
    "    print(\"Error: La función 'evaluate_model' no está definida.\")\n",
    "    print(\"Por favor, ejecuta la celda que define 'evaluate_model' primero.\")"
   ]
  },
  {
   "cell_type": "code",
   "execution_count": 22,
   "id": "c98cf143",
   "metadata": {},
   "outputs": [
    {
     "name": "stdout",
     "output_type": "stream",
     "text": [
      "\n",
      "Obteniendo importancia de variables de Gradient Boosting (Default)...\n",
      "Top 10 variables más importantes (Gradient Boosting Default):\n",
      "                   Feature  Importance\n",
      "0                    Sales    0.631178\n",
      "2                 Discount    0.325737\n",
      "3            Shipping Cost    0.007452\n",
      "24   Sub-Category_Supplies    0.007301\n",
      "25     Sub-Category_Tables    0.004088\n",
      "12    Sub-Category_Binders    0.004080\n",
      "164  Country_United States    0.003941\n",
      "15    Sub-Category_Copiers    0.003521\n",
      "172    Order Priority_High    0.003182\n",
      "4             Days_to_Ship    0.003136\n"
     ]
    }
   ],
   "source": [
    "# --- 3. Importancia de Variables (Default Model) ---\n",
    "\n",
    "print(\"\\nObteniendo importancia de variables de Gradient Boosting (Default)...\")\n",
    "\n",
    "# (Asegúrate de que 'feature_names' esté definido como X_train.columns)\n",
    "try:\n",
    "    if 'feature_names' not in locals():\n",
    "         feature_names = X_train.columns\n",
    "        \n",
    "    # Obtener importancias\n",
    "    importances_default = gb_model_default.feature_importances_\n",
    "\n",
    "    # Crear DataFrame de importancias\n",
    "    feature_importance_df_default = pd.DataFrame({\n",
    "        'Feature': feature_names,\n",
    "        'Importance': importances_default\n",
    "    }).sort_values(by='Importance', ascending=False)\n",
    "\n",
    "    # Mostrar las 10 variables más importantes\n",
    "    print(\"Top 10 variables más importantes (Gradient Boosting Default):\")\n",
    "    print(feature_importance_df_default.head(10))\n",
    "\n",
    "except NameError:\n",
    "     print(\"Error: 'X_train' no está definido.\")"
   ]
  },
  {
   "cell_type": "markdown",
   "id": "98d281ea",
   "metadata": {},
   "source": [
    "**Conclusión**:\n",
    "\n",
    "Al igual que con el Random Forest, los resultados muestran que “Sales” (ventas) es, con diferencia, la variable más influyente en el modelo, representando más del 63% de la importancia total. Le siguen “Discount” (descuento) y en menor medida “Shipping Cost” y varias sub-categorias, que también aportan información relevante aunque mucho menos significativa.\n",
    "\n",
    "El precio y las promociones son los factores más determinantes para estimar el beneficio o el rendimiento en este conjunto de datos."
   ]
  },
  {
   "cell_type": "markdown",
   "id": "d8a9a5f1",
   "metadata": {},
   "source": [
    "### Optimización de Gradient Boosting con GridSearchCV\n",
    "\n",
    "Este código entrena un Gradient Boosting buscando automáticamente la mejor combinación de hiperparámetros (n_estimators, learning_rate y max_depth) usando GridSearchCV. Se calcula el tiempo de entrenamiento y se evalúa el modelo final en el conjunto de prueba mediante RMSE y R²."
   ]
  },
  {
   "cell_type": "code",
   "execution_count": 23,
   "id": "aff8f3f3",
   "metadata": {},
   "outputs": [
    {
     "name": "stdout",
     "output_type": "stream",
     "text": [
      "Iniciando GridSearchCV para Gradient Boosting...\n",
      "Esto puede tardar varios minutos...\n",
      "Fitting 5 folds for each of 27 candidates, totalling 135 fits\n",
      "\n",
      "GridSearchCV para Gradient Boosting completado en 431.56 segundos.\n",
      "Mejores parámetros encontrados: {'learning_rate': 0.1, 'max_depth': 3, 'n_estimators': 200}\n",
      "\n",
      "Evaluación del modelo Gradient Boosting (con mejores hiperparámetros):\n",
      "\n",
      "Resultados para Gradient Boosting (Train):\n",
      "R² Score: 0.8426\n",
      "RMSE: 69.33\n",
      "\n",
      "Resultados para Gradient Boosting (Test):\n",
      "R² Score: 0.6805\n",
      "RMSE: 97.58\n"
     ]
    }
   ],
   "source": [
    "# --- 1. Modelo Gradient Boosting (con GridSearchCV) ---\n",
    "print(\"Iniciando GridSearchCV para Gradient Boosting...\")\n",
    "print(\"Esto puede tardar varios minutos...\")\n",
    "\n",
    "# Definir el modelo\n",
    "gb_model = GradientBoostingRegressor(random_state=42)\n",
    "\n",
    "# Definir el grid de hiperparámetros\n",
    "# (Es un grid pequeño para que no tarde una eternidad)\n",
    "param_grid_gb = {\n",
    "    'n_estimators': [100, 150, 200],         # Número de árboles\n",
    "    'learning_rate': [0.03, 0.05, 0.1],       # Tasa de aprendizaje\n",
    "    'max_depth': [3, 6, 8]                 # Profundidad máxima\n",
    "}\n",
    "\n",
    "# Configurar GridSearchCV\n",
    "# Usamos scoring='neg_mean_squared_error' para optimizar RMSE\n",
    "# O 'r2' para ser consistentes con tu búsqueda anterior\n",
    "grid_gb = GridSearchCV(estimator=gb_model,\n",
    "                       param_grid=param_grid_gb,\n",
    "                       cv=5,  # 3-fold CV para ir más rápido (puedes usar 5)\n",
    "                       scoring='r2',\n",
    "                       n_jobs=-1, # Usar todos los procesadores\n",
    "                       verbose=1)\n",
    "\n",
    "# Medir el tiempo de entrenamiento\n",
    "start_time = time.time()\n",
    "grid_gb.fit(X_train, y_train)\n",
    "end_time = time.time()\n",
    "\n",
    "gb_time = end_time - start_time\n",
    "\n",
    "print(f\"\\nGridSearchCV para Gradient Boosting completado en {gb_time:.2f} segundos.\")\n",
    "print(f\"Mejores parámetros encontrados: {grid_gb.best_params_}\")\n",
    "\n",
    "# Obtener el mejor modelo\n",
    "best_gb = grid_gb.best_estimator_\n",
    "\n",
    "# --- 2. Evaluación del modelo Gradient Boosting ---\n",
    "\n",
    "print(\"\\nEvaluación del modelo Gradient Boosting (con mejores hiperparámetros):\")\n",
    "\n",
    "# Predicciones\n",
    "gb_train_pred = best_gb.predict(X_train)\n",
    "gb_test_pred = best_gb.predict(X_test)\n",
    "\n",
    "# Evaluar\n",
    "evaluate_model(y_train, gb_train_pred, \"Gradient Boosting (Train)\")\n",
    "gb_test_r2, gb_test_rmse = evaluate_model(y_test, gb_test_pred, \"Gradient Boosting (Test)\")"
   ]
  },
  {
   "cell_type": "code",
   "execution_count": 24,
   "id": "c0d18687",
   "metadata": {},
   "outputs": [
    {
     "name": "stdout",
     "output_type": "stream",
     "text": [
      "\n",
      "Obteniendo importancia de variables de Gradient Boosting...\n",
      "Top 15 variables más importantes según Gradient Boosting:\n",
      "                      Feature  Importance\n",
      "0                       Sales    0.625355\n",
      "2                    Discount    0.319107\n",
      "3               Shipping Cost    0.011150\n",
      "24      Sub-Category_Supplies    0.007133\n",
      "1                    Quantity    0.004376\n",
      "25        Sub-Category_Tables    0.004154\n",
      "12       Sub-Category_Binders    0.004058\n",
      "164     Country_United States    0.003936\n",
      "15       Sub-Category_Copiers    0.003853\n",
      "4                Days_to_Ship    0.003333\n",
      "172       Order Priority_High    0.003089\n",
      "20      Sub-Category_Machines    0.001519\n",
      "7    Ship Mode_Standard Class    0.000874\n",
      "69             Country_France    0.000789\n",
      "51              Country_China    0.000676\n"
     ]
    }
   ],
   "source": [
    "# --- 3. Importancia de Variables (Feature Importance) ---\n",
    "\n",
    "print(\"\\nObteniendo importancia de variables de Gradient Boosting...\")\n",
    "\n",
    "# Obtener importancias\n",
    "importances = best_gb.feature_importances_\n",
    "\n",
    "# Crear DataFrame de importancias\n",
    "feature_importance_df = pd.DataFrame({\n",
    "    'Feature': feature_names,\n",
    "    'Importance': importances\n",
    "}).sort_values(by='Importance', ascending=False)\n",
    "\n",
    "# Mostrar las 15 variables más importantes\n",
    "print(\"Top 15 variables más importantes según Gradient Boosting:\")\n",
    "print(feature_importance_df.head(15))"
   ]
  },
  {
   "cell_type": "markdown",
   "id": "8dfb33b5",
   "metadata": {},
   "source": [
    "**Conclusión**:\n",
    "\n",
    "Al igual que con el Gradient Boosting sin ajustar, los resultados muestran que “Sales” (ventas) es, con diferencia, la variable más influyente en el modelo, representando más del 62% de la importancia total. Le siguen “Discount” (descuento) y en menor medida “Shipping Cost” y “Quantity” (que esta vez ha subido en relacion al modelo sin ajustar), que también aportan información relevante aunque mucho menos significativa.\n",
    "\n",
    "El precio y las promociones son los factores más determinantes para estimar el beneficio o el rendimiento en este conjunto de datos."
   ]
  },
  {
   "cell_type": "markdown",
   "id": "c35a7940",
   "metadata": {},
   "source": [
    " #### **Conclusión del modelo:**\n",
    "\n",
    "**¿Es Gradient Boosting el modelo con mejor rendimiento (menor RMSE)?**\n",
    "\n",
    "El modelo Gradient Boosting SÍ obtuvo el mejor rendimiento. Alcanzó un $RMSE$ de 97.58, lo que es ligeramente más bajo que el de Decission Tree (99.48). Esto sugiere que su capacidad para corregir errores secuencialmente es efectiva para este problema de predicción de beneficio. Pero hay que tener en cuenta que al no tener la mejor configuración desde el inició puede tomar bastante tiempo en realizar el ajustado del modelo. Como hemos visto ha sido el MÁS eficaz pero ha tardado 431.56 segundos, haciendo que sea el model que mas tarda."
   ]
  },
  {
   "cell_type": "markdown",
   "id": "6002ed44",
   "metadata": {},
   "source": [
    "## Tabla Maestra de Resultados"
   ]
  },
  {
   "cell_type": "code",
   "execution_count": 25,
   "id": "b4c9ce23",
   "metadata": {},
   "outputs": [
    {
     "name": "stdout",
     "output_type": "stream",
     "text": [
      "\n",
      "--- Tabla Maestra de Resultados (TEST set) ---\n"
     ]
    },
    {
     "data": {
      "text/html": [
       "<style type=\"text/css\">\n",
       "</style>\n",
       "<table id=\"T_416e6\">\n",
       "  <thead>\n",
       "    <tr>\n",
       "      <th class=\"blank level0\" >&nbsp;</th>\n",
       "      <th id=\"T_416e6_level0_col0\" class=\"col_heading level0 col0\" >R² Test</th>\n",
       "      <th id=\"T_416e6_level0_col1\" class=\"col_heading level0 col1\" >RMSE Test</th>\n",
       "      <th id=\"T_416e6_level0_col2\" class=\"col_heading level0 col2\" >Tiempo</th>\n",
       "    </tr>\n",
       "    <tr>\n",
       "      <th class=\"index_name level0\" >Modelo</th>\n",
       "      <th class=\"blank col0\" >&nbsp;</th>\n",
       "      <th class=\"blank col1\" >&nbsp;</th>\n",
       "      <th class=\"blank col2\" >&nbsp;</th>\n",
       "    </tr>\n",
       "  </thead>\n",
       "  <tbody>\n",
       "    <tr>\n",
       "      <th id=\"T_416e6_level0_row0\" class=\"row_heading level0 row0\" >Gradient Boosting</th>\n",
       "      <td id=\"T_416e6_row0_col0\" class=\"data row0 col0\" >0.6805</td>\n",
       "      <td id=\"T_416e6_row0_col1\" class=\"data row0 col1\" >97.58</td>\n",
       "      <td id=\"T_416e6_row0_col2\" class=\"data row0 col2\" >431.562070</td>\n",
       "    </tr>\n",
       "    <tr>\n",
       "      <th id=\"T_416e6_level0_row1\" class=\"row_heading level0 row1\" >Decission Tree</th>\n",
       "      <td id=\"T_416e6_row1_col0\" class=\"data row1 col0\" >0.6679</td>\n",
       "      <td id=\"T_416e6_row1_col1\" class=\"data row1 col1\" >99.48</td>\n",
       "      <td id=\"T_416e6_row1_col2\" class=\"data row1 col2\" >7.225942</td>\n",
       "    </tr>\n",
       "    <tr>\n",
       "      <th id=\"T_416e6_level0_row2\" class=\"row_heading level0 row2\" >Random Forest</th>\n",
       "      <td id=\"T_416e6_row2_col0\" class=\"data row2 col0\" >0.6624</td>\n",
       "      <td id=\"T_416e6_row2_col1\" class=\"data row2 col1\" >100.30</td>\n",
       "      <td id=\"T_416e6_row2_col2\" class=\"data row2 col2\" >67.270178</td>\n",
       "    </tr>\n",
       "    <tr>\n",
       "      <th id=\"T_416e6_level0_row3\" class=\"row_heading level0 row3\" >Ridge</th>\n",
       "      <td id=\"T_416e6_row3_col0\" class=\"data row3 col0\" >0.2647</td>\n",
       "      <td id=\"T_416e6_row3_col1\" class=\"data row3 col1\" >148.03</td>\n",
       "      <td id=\"T_416e6_row3_col2\" class=\"data row3 col2\" >4.036485</td>\n",
       "    </tr>\n",
       "    <tr>\n",
       "      <th id=\"T_416e6_level0_row4\" class=\"row_heading level0 row4\" >Regresión Lineal</th>\n",
       "      <td id=\"T_416e6_row4_col0\" class=\"data row4 col0\" >0.2646</td>\n",
       "      <td id=\"T_416e6_row4_col1\" class=\"data row4 col1\" >148.04</td>\n",
       "      <td id=\"T_416e6_row4_col2\" class=\"data row4 col2\" >0.199687</td>\n",
       "    </tr>\n",
       "    <tr>\n",
       "      <th id=\"T_416e6_level0_row5\" class=\"row_heading level0 row5\" >Lasso</th>\n",
       "      <td id=\"T_416e6_row5_col0\" class=\"data row5 col0\" >0.2642</td>\n",
       "      <td id=\"T_416e6_row5_col1\" class=\"data row5 col1\" >148.08</td>\n",
       "      <td id=\"T_416e6_row5_col2\" class=\"data row5 col2\" >260.063338</td>\n",
       "    </tr>\n",
       "  </tbody>\n",
       "</table>\n"
      ],
      "text/plain": [
       "<pandas.io.formats.style.Styler at 0x14568cf9010>"
      ]
     },
     "metadata": {},
     "output_type": "display_data"
    }
   ],
   "source": [
    "# --- Recolección de Métricas ---\n",
    "# Asumimos que 'lr_model', 'best_lasso', y 'best_gb' SÍ existen en memoria de tu script anterior.\n",
    "\n",
    "# 1. Crear la lista de datos manualmente\n",
    "# Esta es la forma más robusta de hacerlo, usando las variables de tu script.\n",
    "metric_data = [\n",
    "    # (Nombre, R², RMSE)\n",
    "    (\"Regresión Lineal\", lr_test_r2, lr_test_rmse, lr_time),\n",
    "    (\"Ridge\", ridge_test_r2, ridge_test_rmse, ridge_time),\n",
    "    (\"Lasso\", lasso_test_r2, lasso_test_rmse, lasso_time),\n",
    "    (\"Decission Tree\", tree_r2_final, tree_rmse_final, tree_time),\n",
    "    (\"Random Forest\", forest_r2_final, forest_rmse_final, forest_time),\n",
    "    (\"Gradient Boosting\", gb_test_r2, gb_test_rmse, gb_time)\n",
    "]\n",
    "\n",
    "# 2. Construir el DataFrame\n",
    "resultados = []\n",
    "\n",
    "for nombre, r2, rmse, time in metric_data:\n",
    "    resultados.append({\n",
    "        \"Modelo\": nombre,\n",
    "        \"R² Test\": r2,\n",
    "        \"RMSE Test\": rmse,\n",
    "        \"Tiempo\": time\n",
    "    })\n",
    "\n",
    "# --- Crear la Tabla Maestra ---\n",
    "if resultados:\n",
    "    df_resultados = pd.DataFrame(resultados)\n",
    "    df_resultados = df_resultados.set_index('Modelo')\n",
    "    df_resultados = df_resultados.sort_values(by='R² Test', ascending=False)\n",
    "    \n",
    "    # Mostrar la tabla\n",
    "    print(\"\\n--- Tabla Maestra de Resultados (TEST set) ---\")\n",
    "    display(df_resultados.style.format({\n",
    "        'R² Test': '{:.4f}',\n",
    "        'RMSE Test': '{:,.2f}'\n",
    "    }))\n",
    "else:\n",
    "    print(\"La lista 'metric_data' está vacía. Verifica las variables.\")"
   ]
  },
  {
   "cell_type": "markdown",
   "id": "bcd90229",
   "metadata": {},
   "source": [
    "### Conclusiones de la Tabla Maestra de Resultados\n",
    "\n",
    "* **El Ganador en Precisión: `Gradient Boosting`**\n",
    "    * Es el modelo con el $RMSE$ más bajo (97.58) y el $R^2$ más alto (0.6805).\n",
    "    * *Contrapartida:* Es, con diferencia, el modelo **más lento** de entrenar (431 seg).\n",
    "\n",
    "* **El Mejor Equilibrio Coste-Beneficio: `Decision Tree`**\n",
    "    * Ofrece un rendimiento casi idéntico al de Gradient Boosting ($RMSE$ de 99.48).\n",
    "    * Es **60 veces más rápido** que Gradient Boosting (7.2 seg), lo que lo convierte en la opción más práctica.\n",
    "\n",
    "* **La Decepción: `Random Forest`**\n",
    "    * En este caso, el *ensemble* empeoró el resultado. Rinde peor que un `Decision Tree` simple (mayor $RMSE$ de 100.30) y es 9 veces más lento.\n",
    "\n",
    "* **Confirmación: El Problema no es Lineal**\n",
    "    * Existe una brecha de rendimiento masiva entre los modelos de árboles ($R^2 \\approx 0.67$) y los modelos lineales (Regresión Lineal, Ridge, Lasso, con $R^2 \\approx 0.26$). Los modelos lineales son insuficientes.\n",
    "\n",
    "* **El Peor Modelo: `Lasso`**\n",
    "    * No solo ofrece el peor rendimiento predictivo, sino que tuvo un tiempo de entrenamiento inexplicablemente alto (260 seg), siendo más lento incluso que Random Forest."
   ]
  },
  {
   "cell_type": "markdown",
   "id": "7a0f61a9",
   "metadata": {},
   "source": [
    "## Comparar las Importancias de Variables\n",
    "\n",
    "Esta celda genera los tres gráficos de importancia de variables uno al lado del otro."
   ]
  },
  {
   "cell_type": "code",
   "execution_count": 26,
   "id": "f9049e89",
   "metadata": {},
   "outputs": [
    {
     "data": {
      "image/png": "[encoded data removed]",
      "text/plain": [
       "<Figure size 1400x1000 with 1 Axes>"
      ]
     },
     "metadata": {},
     "output_type": "display_data"
    }
   ],
   "source": [
    "feature_names = X_train.columns\n",
    "\n",
    "# Lasso\n",
    "coef_df = pd.DataFrame({'Feature': feature_names, 'Coefficient': best_lasso.coef_})\n",
    "coef_df['Abs_Coefficient'] = abs(coef_df['Coefficient'])\n",
    "coef_df_sorted = coef_df.sort_values('Abs_Coefficient', ascending=False).head(10)\n",
    "\n",
    "# Random Forest\n",
    "importances_rf = best_rf.feature_importances_\n",
    "feat_importance_rf = pd.DataFrame({\n",
    "    'Feature': feature_names,\n",
    "    'Importance': importances_rf\n",
    "}).sort_values(by='Importance', ascending=False).head(10)\n",
    "\n",
    "# Gradient Boosting\n",
    "importances_gb = best_gb.feature_importances_\n",
    "feature_importance_gb = pd.DataFrame({\n",
    "    'Feature': feature_names,\n",
    "    'Importance': importances_gb\n",
    "}).sort_values(by='Importance', ascending=False).head(10)\n",
    "\n",
    "\n",
    "# --- 2. Escalar y Combinar los Datos ---\n",
    "scaler = MinMaxScaler()\n",
    "\n",
    "# Preparar Lasso\n",
    "df_lasso_scaled = coef_df_sorted.copy()\n",
    "# Escalamos usando la columna 'Abs_Coefficient'\n",
    "df_lasso_scaled['Scaled_Importance'] = scaler.fit_transform(df_lasso_scaled[['Abs_Coefficient']])\n",
    "df_lasso_scaled['Model'] = 'Lasso'\n",
    "\n",
    "# Preparar Random Forest\n",
    "df_rf_scaled = feat_importance_rf.copy()\n",
    "# Escalamos usando la columna 'Importance'\n",
    "df_rf_scaled['Scaled_Importance'] = scaler.fit_transform(df_rf_scaled[['Importance']])\n",
    "df_rf_scaled['Model'] = 'Random Forest'\n",
    "\n",
    "# Preparar Gradient Boosting\n",
    "df_gb_scaled = feature_importance_gb.copy()\n",
    "# Escalamos usando la columna 'Importance'\n",
    "df_gb_scaled['Scaled_Importance'] = scaler.fit_transform(df_gb_scaled[['Importance']])\n",
    "df_gb_scaled['Model'] = 'Gradient Boosting'\n",
    "\n",
    "# Combinar los 3 dataframes\n",
    "df_combined = pd.concat([\n",
    "    df_lasso_scaled[['Feature', 'Scaled_Importance', 'Model']],\n",
    "    df_rf_scaled[['Feature', 'Scaled_Importance', 'Model']],\n",
    "    df_gb_scaled[['Feature', 'Scaled_Importance', 'Model']]\n",
    "])\n",
    "\n",
    "# --- 3. Graficar todo junto ---\n",
    "\n",
    "# Ordenar las 'Features' (variables) por su importancia total\n",
    "# Esto agrupa las variables más importantes arriba\n",
    "order = df_combined.groupby('Feature')['Scaled_Importance'].sum().sort_values(ascending=False).index\n",
    "\n",
    "plt.figure(figsize=(14, 10))\n",
    "sns.barplot(\n",
    "    data=df_combined,\n",
    "    x='Scaled_Importance',\n",
    "    y='Feature',\n",
    "    hue='Model',\n",
    "    palette='viridis',\n",
    "    order=order\n",
    ")\n",
    "plt.title('Comparación de Importancia de Variables (Top 10 de cada modelo, Escalado)', fontsize=16)\n",
    "plt.xlabel('Importancia Relativa (Escalada 0 a 1)')\n",
    "plt.ylabel('Variable')\n",
    "plt.legend(title='Modelo')\n",
    "plt.tight_layout()\n",
    "plt.show()"
   ]
  },
  {
   "cell_type": "markdown",
   "id": "8c8afe96",
   "metadata": {},
   "source": [
    "### Conclusiones de la Importancia de Variables\n",
    "\n",
    "* **Consenso en el \"Top 3\":** Todos los modelos (Lasso, Random Forest y Gradient Boosting) están de acuerdo en que `Sales` (Ventas), `Discount` (Descuento) y `Sub-Category_Tables` (Subcategoría Mesas) son las variables más importantes, eclipsando a todas las demás.\n",
    "\n",
    "* **Discrepancia Clave en el \"Top 1\":** Aunque coinciden en el top 3, el orden varía:\n",
    "    * **`Gradient Boosting`** (el modelo más preciso) identifica `Sales` como la variable más importante.\n",
    "    * **`Random Forest`** le da la máxima importancia a `Sub-Category_Tables`.\n",
    "\n",
    "* **Comportamiento de Lasso vs. Árboles:** El modelo `Lasso` se comporta de manera muy diferente. Asigna una importancia significativa a muchas variables categóricas (países como `Country_Kazakhstan`, `Country_Zimbabwe` y la subcategoría `Sub-Category_Machines`) que los modelos de árbol (RF y GB) consideran casi irrelevantes.\n",
    "\n",
    "* **Consenso en la Baja Importancia:** Todos los modelos coinciden en que variables como `Shipping Cost` (Coste de Envío), `Quantity` (Cantidad) y `Days_to_Ship` (Días para Enviar) tienen una importancia predictiva muy baja en comparación con el trío principal."
   ]
  },
  {
   "cell_type": "markdown",
   "id": "698c4e4f",
   "metadata": {},
   "source": [
    "### Respondiendo las Preguntas de Negocio\n",
    "\n",
    "Aquí usamos los modelos y análisis para responder las preguntas clave.\n",
    "\n",
    "#### 1. ¿Cuál es el impacto real del Descuento (Discount) en el Beneficio (Profit)?\n",
    "\n",
    "El impacto es fuertemente negativo y es, consistentemente, la variable más importante para predecir el beneficio.\n",
    "* Correlación: La matriz de correlación inicial ya mostraba una relación negativa.\n",
    "* Importancia: Los 3 modelos (Lasso, RF, GB) la sitúan en el Top 3 de importancia.\n",
    "* Lasso: El modelo Lasso (best_lasso.coef_) le asigna un coeficiente negativo y grande, confirmando que a medida que Discount aumenta, Profit tiende a disminuir, manteniendo todo lo demás constante.\n",
    "\n",
    "Para encontrar el \"punto en que deja de ser rentable\", se podría hacer un gráfico específico:"
   ]
  },
  {
   "cell_type": "code",
   "execution_count": 27,
   "id": "fbad60f5",
   "metadata": {},
   "outputs": [
    {
     "data": {
      "image/png": "[encoded data removed]",
      "text/plain": [
       "<Figure size 1000x500 with 1 Axes>"
      ]
     },
     "metadata": {},
     "output_type": "display_data"
    }
   ],
   "source": [
    "# Agrupamos por descuento y calculamos el beneficio promedio\n",
    "profit_by_discount = df.groupby('Discount')['Profit'].mean().reset_index()\n",
    "\n",
    "plt.figure(figsize=(10, 5))\n",
    "sns.lineplot(data=profit_by_discount, x='Discount', y='Profit', marker='o')\n",
    "plt.axhline(0, color='red', linestyle='--', label='Punto de Pérdida (Profit = 0)')\n",
    "plt.title('Beneficio Promedio vs. Nivel de Descuento')\n",
    "plt.xlabel('Descuento Aplicado')\n",
    "plt.ylabel('Beneficio Promedio')\n",
    "plt.legend()\n",
    "plt.grid(True)\n",
    "plt.show()"
   ]
  },
  {
   "cell_type": "markdown",
   "id": "3f209db8",
   "metadata": {},
   "source": [
    "Interpretación: El gráfico de arriba muestra que a partir de un nivel de descuento (p.ej., Discount > 0.3 o 0.4), el beneficio promedio se vuelve negativo."
   ]
  },
  {
   "cell_type": "markdown",
   "id": "8a86bfe6",
   "metadata": {},
   "source": [
    "#### 2. ¿Qué variables son las más importantes para predecir la rentabilidad?\n",
    "\n",
    "Basado en los gráficos de importancia de variables (Tarea 2), las variables más importantes son:\n",
    "* Discount (Descuento)\n",
    "\n",
    "* Sales (Ventas)\n",
    "\n",
    "* Variables de Sub-Categoría (p.ej., Sub-Category_Tables, Sub-Category_Copiers)\n",
    "\n",
    "* Variables como Shipping Cost (Coste de Envío) y Quantity (Cantidad) también son importantes, pero generalmente menos que las tres primeras."
   ]
  },
  {
   "cell_type": "markdown",
   "id": "16d99612",
   "metadata": {},
   "source": [
    "#### 3. ¿Qué productos o subcategorías son sistemáticamente poco rentables?"
   ]
  },
  {
   "cell_type": "code",
   "execution_count": 28,
   "id": "ea22b37c",
   "metadata": {},
   "outputs": [
    {
     "name": "stdout",
     "output_type": "stream",
     "text": [
      "--- Subcategorías con MAYOR impacto POSITIVO (Más Rentables) ---\n"
     ]
    },
    {
     "data": {
      "application/vnd.microsoft.datawrangler.viewer.v0+json": {
       "columns": [
        {
         "name": "index",
         "rawType": "int64",
         "type": "integer"
        },
        {
         "name": "Feature",
         "rawType": "object",
         "type": "string"
        },
        {
         "name": "Coefficient",
         "rawType": "float64",
         "type": "float"
        },
        {
         "name": "Abs_Coefficient",
         "rawType": "float64",
         "type": "float"
        }
       ],
       "ref": "2deb3d42-cd56-4355-a815-e0eb8d170a62",
       "rows": [
        [
         "19",
         "Sub-Category_Labels",
         "4.855446043226981",
         "4.855446043226981"
        ],
        [
         "16",
         "Sub-Category_Envelopes",
         "5.589425709334984",
         "5.589425709334984"
        ],
        [
         "17",
         "Sub-Category_Fasteners",
         "7.128885221237546",
         "7.128885221237546"
        ],
        [
         "12",
         "Sub-Category_Binders",
         "14.633454405310028",
         "14.633454405310028"
        ],
        [
         "18",
         "Sub-Category_Furnishings",
         "26.07238103454569",
         "26.07238103454569"
        ]
       ],
       "shape": {
        "columns": 3,
        "rows": 5
       }
      },
      "text/html": [
       "<div>\n",
       "<style scoped>\n",
       "    .dataframe tbody tr th:only-of-type {\n",
       "        vertical-align: middle;\n",
       "    }\n",
       "\n",
       "    .dataframe tbody tr th {\n",
       "        vertical-align: top;\n",
       "    }\n",
       "\n",
       "    .dataframe thead th {\n",
       "        text-align: right;\n",
       "    }\n",
       "</style>\n",
       "<table border=\"1\" class=\"dataframe\">\n",
       "  <thead>\n",
       "    <tr style=\"text-align: right;\">\n",
       "      <th></th>\n",
       "      <th>Feature</th>\n",
       "      <th>Coefficient</th>\n",
       "      <th>Abs_Coefficient</th>\n",
       "    </tr>\n",
       "  </thead>\n",
       "  <tbody>\n",
       "    <tr>\n",
       "      <th>19</th>\n",
       "      <td>Sub-Category_Labels</td>\n",
       "      <td>4.855446</td>\n",
       "      <td>4.855446</td>\n",
       "    </tr>\n",
       "    <tr>\n",
       "      <th>16</th>\n",
       "      <td>Sub-Category_Envelopes</td>\n",
       "      <td>5.589426</td>\n",
       "      <td>5.589426</td>\n",
       "    </tr>\n",
       "    <tr>\n",
       "      <th>17</th>\n",
       "      <td>Sub-Category_Fasteners</td>\n",
       "      <td>7.128885</td>\n",
       "      <td>7.128885</td>\n",
       "    </tr>\n",
       "    <tr>\n",
       "      <th>12</th>\n",
       "      <td>Sub-Category_Binders</td>\n",
       "      <td>14.633454</td>\n",
       "      <td>14.633454</td>\n",
       "    </tr>\n",
       "    <tr>\n",
       "      <th>18</th>\n",
       "      <td>Sub-Category_Furnishings</td>\n",
       "      <td>26.072381</td>\n",
       "      <td>26.072381</td>\n",
       "    </tr>\n",
       "  </tbody>\n",
       "</table>\n",
       "</div>"
      ],
      "text/plain": [
       "                     Feature  Coefficient  Abs_Coefficient\n",
       "19       Sub-Category_Labels     4.855446         4.855446\n",
       "16    Sub-Category_Envelopes     5.589426         5.589426\n",
       "17    Sub-Category_Fasteners     7.128885         7.128885\n",
       "12      Sub-Category_Binders    14.633454        14.633454\n",
       "18  Sub-Category_Furnishings    26.072381        26.072381"
      ]
     },
     "metadata": {},
     "output_type": "display_data"
    },
    {
     "name": "stdout",
     "output_type": "stream",
     "text": [
      "\n",
      "--- Subcategorías con MAYOR impacto NEGATIVO (Menos Rentables) ---\n"
     ]
    },
    {
     "data": {
      "application/vnd.microsoft.datawrangler.viewer.v0+json": {
       "columns": [
        {
         "name": "index",
         "rawType": "int64",
         "type": "integer"
        },
        {
         "name": "Feature",
         "rawType": "object",
         "type": "string"
        },
        {
         "name": "Coefficient",
         "rawType": "float64",
         "type": "float"
        },
        {
         "name": "Abs_Coefficient",
         "rawType": "float64",
         "type": "float"
        }
       ],
       "ref": "8fd41a89-f7fb-4fb9-b3da-0799b443c20e",
       "rows": [
        [
         "25",
         "Sub-Category_Tables",
         "-187.73172204670368",
         "187.73172204670368"
        ],
        [
         "20",
         "Sub-Category_Machines",
         "-44.761918898888204",
         "44.761918898888204"
        ],
        [
         "22",
         "Sub-Category_Phones",
         "-23.326137856055624",
         "23.326137856055624"
        ],
        [
         "10",
         "Sub-Category_Appliances",
         "-22.46059357983003",
         "22.46059357983003"
        ],
        [
         "13",
         "Sub-Category_Bookcases",
         "-17.446573605912295",
         "17.446573605912295"
        ]
       ],
       "shape": {
        "columns": 3,
        "rows": 5
       }
      },
      "text/html": [
       "<div>\n",
       "<style scoped>\n",
       "    .dataframe tbody tr th:only-of-type {\n",
       "        vertical-align: middle;\n",
       "    }\n",
       "\n",
       "    .dataframe tbody tr th {\n",
       "        vertical-align: top;\n",
       "    }\n",
       "\n",
       "    .dataframe thead th {\n",
       "        text-align: right;\n",
       "    }\n",
       "</style>\n",
       "<table border=\"1\" class=\"dataframe\">\n",
       "  <thead>\n",
       "    <tr style=\"text-align: right;\">\n",
       "      <th></th>\n",
       "      <th>Feature</th>\n",
       "      <th>Coefficient</th>\n",
       "      <th>Abs_Coefficient</th>\n",
       "    </tr>\n",
       "  </thead>\n",
       "  <tbody>\n",
       "    <tr>\n",
       "      <th>25</th>\n",
       "      <td>Sub-Category_Tables</td>\n",
       "      <td>-187.731722</td>\n",
       "      <td>187.731722</td>\n",
       "    </tr>\n",
       "    <tr>\n",
       "      <th>20</th>\n",
       "      <td>Sub-Category_Machines</td>\n",
       "      <td>-44.761919</td>\n",
       "      <td>44.761919</td>\n",
       "    </tr>\n",
       "    <tr>\n",
       "      <th>22</th>\n",
       "      <td>Sub-Category_Phones</td>\n",
       "      <td>-23.326138</td>\n",
       "      <td>23.326138</td>\n",
       "    </tr>\n",
       "    <tr>\n",
       "      <th>10</th>\n",
       "      <td>Sub-Category_Appliances</td>\n",
       "      <td>-22.460594</td>\n",
       "      <td>22.460594</td>\n",
       "    </tr>\n",
       "    <tr>\n",
       "      <th>13</th>\n",
       "      <td>Sub-Category_Bookcases</td>\n",
       "      <td>-17.446574</td>\n",
       "      <td>17.446574</td>\n",
       "    </tr>\n",
       "  </tbody>\n",
       "</table>\n",
       "</div>"
      ],
      "text/plain": [
       "                    Feature  Coefficient  Abs_Coefficient\n",
       "25      Sub-Category_Tables  -187.731722       187.731722\n",
       "20    Sub-Category_Machines   -44.761919        44.761919\n",
       "22      Sub-Category_Phones   -23.326138        23.326138\n",
       "10  Sub-Category_Appliances   -22.460594        22.460594\n",
       "13   Sub-Category_Bookcases   -17.446574        17.446574"
      ]
     },
     "metadata": {},
     "output_type": "display_data"
    }
   ],
   "source": [
    "# Filtramos por características que sean de 'Sub-Category'\n",
    "lasso_subcat = coef_df[coef_df['Feature'].str.contains('Sub-Category')].sort_values(by='Coefficient')\n",
    "\n",
    "print(\"--- Subcategorías con MAYOR impacto POSITIVO (Más Rentables) ---\")\n",
    "display(lasso_subcat.tail(5))\n",
    "\n",
    "print(\"\\n--- Subcategorías con MAYOR impacto NEGATIVO (Menos Rentables) ---\")\n",
    "display(lasso_subcat.head(5))"
   ]
  },
  {
   "cell_type": "markdown",
   "id": "14f21e22",
   "metadata": {},
   "source": [
    "Usamos los coeficientes del modelo Lasso para responder esto, ya que nos da una dirección (positiva o negativa) del impacto. Filtramos los coeficientes que contienen Sub-Category."
   ]
  },
  {
   "cell_type": "markdown",
   "id": "15db72ce",
   "metadata": {},
   "source": [
    "**Interpretación**:\n",
    "\n",
    "Las subcategorías con coeficientes negativos grandes (p.ej., Sub-Category_Tables) son sistemáticamente poco rentables.\n",
    "\n",
    "Las subcategorías con coeficientes positivos grandes (p.ej., Sub-Category_Copiers) son sistemáticamente muy rentables (comparadas con la categoría base)."
   ]
  },
  {
   "cell_type": "markdown",
   "id": "6853ad91",
   "metadata": {},
   "source": [
    "#### 4. ¿Hay regiones o países donde la operativa es menos rentable?\n",
    "\n",
    "Aplicamos la misma lógica que en la pregunta 3, pero filtrando por Country."
   ]
  },
  {
   "cell_type": "code",
   "execution_count": 29,
   "id": "219e13c0",
   "metadata": {},
   "outputs": [
    {
     "name": "stdout",
     "output_type": "stream",
     "text": [
      "--- Países con MAYOR impacto POSITIVO (Más Rentables) ---\n"
     ]
    },
    {
     "data": {
      "application/vnd.microsoft.datawrangler.viewer.v0+json": {
       "columns": [
        {
         "name": "index",
         "rawType": "int64",
         "type": "integer"
        },
        {
         "name": "Feature",
         "rawType": "object",
         "type": "string"
        },
        {
         "name": "Coefficient",
         "rawType": "float64",
         "type": "float"
        },
        {
         "name": "Abs_Coefficient",
         "rawType": "float64",
         "type": "float"
        }
       ],
       "ref": "1b6e8815-203d-452a-b595-01bdb1f68647",
       "rows": [
        [
         "158",
         "Country_Turkey",
         "42.081276230135884",
         "42.081276230135884"
        ],
        [
         "119",
         "Country_Nigeria",
         "42.48591848705893",
         "42.48591848705893"
        ],
        [
         "160",
         "Country_Uganda",
         "45.89416262275811",
         "45.89416262275811"
        ],
        [
         "171",
         "Country_Zimbabwe",
         "50.31354544166435",
         "50.31354544166435"
        ],
        [
         "92",
         "Country_Kazakhstan",
         "52.15136637257911",
         "52.15136637257911"
        ]
       ],
       "shape": {
        "columns": 3,
        "rows": 5
       }
      },
      "text/html": [
       "<div>\n",
       "<style scoped>\n",
       "    .dataframe tbody tr th:only-of-type {\n",
       "        vertical-align: middle;\n",
       "    }\n",
       "\n",
       "    .dataframe tbody tr th {\n",
       "        vertical-align: top;\n",
       "    }\n",
       "\n",
       "    .dataframe thead th {\n",
       "        text-align: right;\n",
       "    }\n",
       "</style>\n",
       "<table border=\"1\" class=\"dataframe\">\n",
       "  <thead>\n",
       "    <tr style=\"text-align: right;\">\n",
       "      <th></th>\n",
       "      <th>Feature</th>\n",
       "      <th>Coefficient</th>\n",
       "      <th>Abs_Coefficient</th>\n",
       "    </tr>\n",
       "  </thead>\n",
       "  <tbody>\n",
       "    <tr>\n",
       "      <th>158</th>\n",
       "      <td>Country_Turkey</td>\n",
       "      <td>42.081276</td>\n",
       "      <td>42.081276</td>\n",
       "    </tr>\n",
       "    <tr>\n",
       "      <th>119</th>\n",
       "      <td>Country_Nigeria</td>\n",
       "      <td>42.485918</td>\n",
       "      <td>42.485918</td>\n",
       "    </tr>\n",
       "    <tr>\n",
       "      <th>160</th>\n",
       "      <td>Country_Uganda</td>\n",
       "      <td>45.894163</td>\n",
       "      <td>45.894163</td>\n",
       "    </tr>\n",
       "    <tr>\n",
       "      <th>171</th>\n",
       "      <td>Country_Zimbabwe</td>\n",
       "      <td>50.313545</td>\n",
       "      <td>50.313545</td>\n",
       "    </tr>\n",
       "    <tr>\n",
       "      <th>92</th>\n",
       "      <td>Country_Kazakhstan</td>\n",
       "      <td>52.151366</td>\n",
       "      <td>52.151366</td>\n",
       "    </tr>\n",
       "  </tbody>\n",
       "</table>\n",
       "</div>"
      ],
      "text/plain": [
       "                Feature  Coefficient  Abs_Coefficient\n",
       "158      Country_Turkey    42.081276        42.081276\n",
       "119     Country_Nigeria    42.485918        42.485918\n",
       "160      Country_Uganda    45.894163        45.894163\n",
       "171    Country_Zimbabwe    50.313545        50.313545\n",
       "92   Country_Kazakhstan    52.151366        52.151366"
      ]
     },
     "metadata": {},
     "output_type": "display_data"
    },
    {
     "name": "stdout",
     "output_type": "stream",
     "text": [
      "\n",
      "--- Países con MAYOR impacto NEGATIVO (Menos Rentables) ---\n"
     ]
    },
    {
     "data": {
      "application/vnd.microsoft.datawrangler.viewer.v0+json": {
       "columns": [
        {
         "name": "index",
         "rawType": "int64",
         "type": "integer"
        },
        {
         "name": "Feature",
         "rawType": "object",
         "type": "string"
        },
        {
         "name": "Coefficient",
         "rawType": "float64",
         "type": "float"
        },
        {
         "name": "Abs_Coefficient",
         "rawType": "float64",
         "type": "float"
        }
       ],
       "ref": "b09ee61d-da36-4c7b-8917-c8bff44aa338",
       "rows": [
        [
         "99",
         "Country_Lithuania",
         "-30.947838585665515",
         "30.947838585665515"
        ],
        [
         "121",
         "Country_Pakistan",
         "-23.484763462803343",
         "23.484763462803343"
        ],
        [
         "140",
         "Country_Somalia",
         "-17.14373975516111",
         "17.14373975516111"
        ],
        [
         "62",
         "Country_Egypt",
         "-10.726998328410073",
         "10.726998328410073"
        ],
        [
         "88",
         "Country_Italy",
         "-10.129033925127736",
         "10.129033925127736"
        ]
       ],
       "shape": {
        "columns": 3,
        "rows": 5
       }
      },
      "text/html": [
       "<div>\n",
       "<style scoped>\n",
       "    .dataframe tbody tr th:only-of-type {\n",
       "        vertical-align: middle;\n",
       "    }\n",
       "\n",
       "    .dataframe tbody tr th {\n",
       "        vertical-align: top;\n",
       "    }\n",
       "\n",
       "    .dataframe thead th {\n",
       "        text-align: right;\n",
       "    }\n",
       "</style>\n",
       "<table border=\"1\" class=\"dataframe\">\n",
       "  <thead>\n",
       "    <tr style=\"text-align: right;\">\n",
       "      <th></th>\n",
       "      <th>Feature</th>\n",
       "      <th>Coefficient</th>\n",
       "      <th>Abs_Coefficient</th>\n",
       "    </tr>\n",
       "  </thead>\n",
       "  <tbody>\n",
       "    <tr>\n",
       "      <th>99</th>\n",
       "      <td>Country_Lithuania</td>\n",
       "      <td>-30.947839</td>\n",
       "      <td>30.947839</td>\n",
       "    </tr>\n",
       "    <tr>\n",
       "      <th>121</th>\n",
       "      <td>Country_Pakistan</td>\n",
       "      <td>-23.484763</td>\n",
       "      <td>23.484763</td>\n",
       "    </tr>\n",
       "    <tr>\n",
       "      <th>140</th>\n",
       "      <td>Country_Somalia</td>\n",
       "      <td>-17.143740</td>\n",
       "      <td>17.143740</td>\n",
       "    </tr>\n",
       "    <tr>\n",
       "      <th>62</th>\n",
       "      <td>Country_Egypt</td>\n",
       "      <td>-10.726998</td>\n",
       "      <td>10.726998</td>\n",
       "    </tr>\n",
       "    <tr>\n",
       "      <th>88</th>\n",
       "      <td>Country_Italy</td>\n",
       "      <td>-10.129034</td>\n",
       "      <td>10.129034</td>\n",
       "    </tr>\n",
       "  </tbody>\n",
       "</table>\n",
       "</div>"
      ],
      "text/plain": [
       "               Feature  Coefficient  Abs_Coefficient\n",
       "99   Country_Lithuania   -30.947839        30.947839\n",
       "121   Country_Pakistan   -23.484763        23.484763\n",
       "140    Country_Somalia   -17.143740        17.143740\n",
       "62       Country_Egypt   -10.726998        10.726998\n",
       "88       Country_Italy   -10.129034        10.129034"
      ]
     },
     "metadata": {},
     "output_type": "display_data"
    }
   ],
   "source": [
    "# Filtramos por características que sean de 'Country'\n",
    "lasso_country = coef_df[coef_df['Feature'].str.contains('Country')].sort_values(by='Coefficient')\n",
    "\n",
    "print(\"--- Países con MAYOR impacto POSITIVO (Más Rentables) ---\")\n",
    "display(lasso_country.tail(5))\n",
    "\n",
    "print(\"\\n--- Países con MAYOR impacto NEGATIVO (Menos Rentables) ---\")\n",
    "display(lasso_country.head(5))"
   ]
  },
  {
   "cell_type": "markdown",
   "id": "3910d354",
   "metadata": {},
   "source": [
    "#### 5. ¿El método de envío (Ship Mode) tiene una influencia real?\n",
    "\n",
    "Para ver esto, revisamos si Ship Mode aparece en las listas de importancia de variables o si tiene coeficientes significativos en Lasso."
   ]
  },
  {
   "cell_type": "code",
   "execution_count": 30,
   "id": "92ec1be5",
   "metadata": {},
   "outputs": [
    {
     "name": "stdout",
     "output_type": "stream",
     "text": [
      "--- Impacto de los Métodos de Envío (Lasso) ---\n"
     ]
    },
    {
     "data": {
      "application/vnd.microsoft.datawrangler.viewer.v0+json": {
       "columns": [
        {
         "name": "index",
         "rawType": "int64",
         "type": "integer"
        },
        {
         "name": "Feature",
         "rawType": "object",
         "type": "string"
        },
        {
         "name": "Coefficient",
         "rawType": "float64",
         "type": "float"
        },
        {
         "name": "Abs_Coefficient",
         "rawType": "float64",
         "type": "float"
        }
       ],
       "ref": "7ac93404-3aaa-43d6-a9a8-f50c9e774dbb",
       "rows": [
        [
         "6",
         "Ship Mode_Second Class",
         "-4.604372250617864",
         "4.604372250617864"
        ],
        [
         "7",
         "Ship Mode_Standard Class",
         "-2.8937636742439174",
         "2.8937636742439174"
        ],
        [
         "5",
         "Ship Mode_Same Day",
         "-1.4779640659246347",
         "1.4779640659246347"
        ]
       ],
       "shape": {
        "columns": 3,
        "rows": 3
       }
      },
      "text/html": [
       "<div>\n",
       "<style scoped>\n",
       "    .dataframe tbody tr th:only-of-type {\n",
       "        vertical-align: middle;\n",
       "    }\n",
       "\n",
       "    .dataframe tbody tr th {\n",
       "        vertical-align: top;\n",
       "    }\n",
       "\n",
       "    .dataframe thead th {\n",
       "        text-align: right;\n",
       "    }\n",
       "</style>\n",
       "<table border=\"1\" class=\"dataframe\">\n",
       "  <thead>\n",
       "    <tr style=\"text-align: right;\">\n",
       "      <th></th>\n",
       "      <th>Feature</th>\n",
       "      <th>Coefficient</th>\n",
       "      <th>Abs_Coefficient</th>\n",
       "    </tr>\n",
       "  </thead>\n",
       "  <tbody>\n",
       "    <tr>\n",
       "      <th>6</th>\n",
       "      <td>Ship Mode_Second Class</td>\n",
       "      <td>-4.604372</td>\n",
       "      <td>4.604372</td>\n",
       "    </tr>\n",
       "    <tr>\n",
       "      <th>7</th>\n",
       "      <td>Ship Mode_Standard Class</td>\n",
       "      <td>-2.893764</td>\n",
       "      <td>2.893764</td>\n",
       "    </tr>\n",
       "    <tr>\n",
       "      <th>5</th>\n",
       "      <td>Ship Mode_Same Day</td>\n",
       "      <td>-1.477964</td>\n",
       "      <td>1.477964</td>\n",
       "    </tr>\n",
       "  </tbody>\n",
       "</table>\n",
       "</div>"
      ],
      "text/plain": [
       "                    Feature  Coefficient  Abs_Coefficient\n",
       "6    Ship Mode_Second Class    -4.604372         4.604372\n",
       "7  Ship Mode_Standard Class    -2.893764         2.893764\n",
       "5        Ship Mode_Same Day    -1.477964         1.477964"
      ]
     },
     "metadata": {},
     "output_type": "display_data"
    }
   ],
   "source": [
    "# Filtramos por características que sean de 'Ship Mode'\n",
    "lasso_shipmode = coef_df[coef_df['Feature'].str.contains('Ship Mode')].sort_values(by='Coefficient')\n",
    "\n",
    "print(\"--- Impacto de los Métodos de Envío (Lasso) ---\")\n",
    "display(lasso_shipmode)"
   ]
  },
  {
   "cell_type": "markdown",
   "id": "01978f16",
   "metadata": {},
   "source": [
    "**Interpretación**: \n",
    "\n",
    "Probablemente, las variables de Ship Mode no aparecen en el Top 10 de importancia y sus coeficientes en Lasso son pequeños. Esto sugeriría que, una vez que ya se ha considerado el Shipping Cost (Coste de Envío), el método específico (Same Day, Second Class, etc.) no tiene una influencia real significativa en el beneficio final."
   ]
  },
  {
   "cell_type": "markdown",
   "id": "de2aecd6",
   "metadata": {},
   "source": [
    "## Análisis Adicional: \n",
    "### Preguntas de Modelado\n",
    "#### 1. ¿Es un modelo lineal simple suficiente?\n",
    "\n",
    "No. La Tabla Maestra muestra que los modelos de Árboles (Random Forest y Gradient Boosting) tienen un $R^2$ significativamente más alto y un $RMSE$ más bajo que la Regresión Lineal. Esto indica que el problema tiene relaciones no lineales que los árboles capturan mejor.\n",
    "\n",
    "#### 2. ¿Sufre el modelo lineal de overfitting? ¿Ayuda la regularización? (Debes comparar el $R^2$ de train y test de tu script). \n",
    "\n",
    "Es probable que sí. La regularización (Lasso) sí ayuda. Al comparar Regresión Lineal ($R^2$: {df_resultados.loc['Regresión Lineal', 'R² Test']:.4f}) con Lasso (Ajustado) ($R^2$: {df_resultados.loc['Lasso (Ajustado)', 'R² Test']:.4f}), vemos que Lasso obtiene un mejor rendimiento en test, indicando que generaliza mejor.\n",
    "\n",
    "#### 3. ¿El modelo Lasso elimina algunas variables?\n",
    "\n",
    "Sí, eliminó 90 variables que tenían un coeficiente igual a 0.\n",
    "\n",
    "#### 4. ¿Qué modelo ofrece la mejor métrica?\n",
    "\n",
    "El modelo Gradient Boosting optimizado ofrece las mejores métricas de predicción en el conjunto de prueba R² 0.6805 y RMSE 97.58.\n",
    "\n",
    "#### 5. ¿Coinciden las variables más importantes (RF y GB)?\n",
    "\n",
    "Sí. Como vimos en el gráfico sobre la importancia de las variables, ambos modelos de ensamblaje (Random Forest y Gradient Boosting) coinciden en las variables más importantes: Discount y Sales, y Shiping Cost, Quantity y varias Sub-Category. El orden exacto puede variar, pero el \"Top 5\" es muy similar."
   ]
  }
 ],
 "metadata": {
  "kernelspec": {
   "display_name": "base",
   "language": "python",
   "name": "python3"
  },
  "language_info": {
   "codemirror_mode": {
    "name": "ipython",
    "version": 3
   },
   "file_extension": ".py",
   "mimetype": "text/x-python",
   "name": "python",
   "nbconvert_exporter": "python",
   "pygments_lexer": "ipython3",
   "version": "3.13.5"
  }
 },
 "nbformat": 4,
 "nbformat_minor": 5
}

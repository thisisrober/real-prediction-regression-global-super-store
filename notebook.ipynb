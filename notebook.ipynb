{
 "cells": [
  {
   "cell_type": "markdown",
   "id": "26385f3a",
   "metadata": {},
   "source": [
    "# Proyecto de predicción con regresión del dataset Global Super Store\n",
    "\n",
    "## Introducción\n",
    "Este proyecto se centra en el análisis y predicción de beneficios utilizando técnicas de regresión sobre el dataset Global Super Store. El objetivo principal es desarrollar modelos predictivos que nos ayuden a entender los factores que influyen en el beneficio (Profit) de la tienda.\n",
    "\n",
    "## Dataset\n",
    "El dataset Global Super Store contiene información detallada sobre ventas, envíos, productos y clientes de una tienda global. Incluye variables como fechas de pedido y envío, información del cliente, detalles del producto, ventas, descuentos y beneficios."
   ]
  },
  {
   "cell_type": "code",
   "execution_count": null,
   "id": "de01eb00",
   "metadata": {},
   "outputs": [],
   "source": [
    "# Importación de librerías necesarias\n",
    "import pandas as pd\n",
    "import numpy as np\n",
    "import matplotlib.pyplot as plt\n",
    "import seaborn as sns\n",
    "from sklearn.model_selection import train_test_split\n",
    "from sklearn.preprocessing import OneHotEncoder\n",
    "\n",
    "# Configuración de visualización\n",
    "plt.style.use('seaborn-v0_8')\n",
    "pd.set_option('display.max_columns', None)\n",
    "\n",
    "# Carga del dataset\n",
    "df = pd.read_csv('data/Global_Superstore2.csv', encoding='iso-8859-1')\n",
    "\n",
    "# Mostrar las primeras 10 filas del dataset\n",
    "print(\"Dimensiones del dataset:\", df.shape)\n",
    "df.head(10)"
   ]
  },
  {
   "cell_type": "markdown",
   "id": "51864841",
   "metadata": {},
   "source": [
    "## Análisis Exploratorio de Datos (EDA)\n",
    "\n",
    "### Análisis Inicial\n",
    "Comenzaremos con un análisis exploratorio para entender mejor nuestros datos. Primero, examinaremos:\n",
    "1. Tipos de datos y valores faltantes\n",
    "2. Estadísticas descriptivas básicas\n",
    "3. Distribución de variables numéricas clave"
   ]
  },
  {
   "cell_type": "code",
   "execution_count": null,
   "id": "8529c095",
   "metadata": {},
   "outputs": [],
   "source": [
    "# Información general del dataset\n",
    "print(\"Información del dataset:\")\n",
    "print(df.info())\n",
    "\n",
    "print(\"\\nEstadísticas descriptivas de las variables numéricas:\")\n",
    "print(df.describe())"
   ]
  },
  {
   "cell_type": "markdown",
   "id": "bdd0f94a",
   "metadata": {},
   "source": [
    "### Análisis de Variables Objetivo y Principales\n",
    "\n",
    "Analizaremos las variables más importantes para nuestro modelo:\n",
    "1. Profit (variable objetivo)\n",
    "2. Sales\n",
    "3. Discount\n",
    "4. Category\n",
    "\n",
    "También examinaremos las correlaciones entre estas variables."
   ]
  },
  {
   "cell_type": "code",
   "execution_count": null,
   "id": "f603ac23",
   "metadata": {},
   "outputs": [],
   "source": [
    "# Análisis de la variable objetivo (Profit)\n",
    "plt.figure(figsize=(12, 6))\n",
    "plt.subplot(1, 2, 1)\n",
    "sns.histplot(df['Profit'], kde=True)\n",
    "plt.title('Distribución de Profit')\n",
    "plt.xlabel('Profit')\n",
    "\n",
    "plt.subplot(1, 2, 2)\n",
    "sns.boxplot(y=df['Profit'])\n",
    "plt.title('Boxplot de Profit')\n",
    "plt.tight_layout()\n",
    "plt.show()\n",
    "\n",
    "# Estadísticas descriptivas de Profit\n",
    "print(\"\\nEstadísticas de Profit:\")\n",
    "print(df['Profit'].describe())"
   ]
  },
  {
   "cell_type": "code",
   "execution_count": null,
   "id": "3af5bf1e",
   "metadata": {},
   "outputs": [],
   "source": [
    "# Análisis de relaciones entre variables numéricas principales\n",
    "plt.figure(figsize=(15, 5))\n",
    "\n",
    "# Relación entre Sales y Profit\n",
    "plt.subplot(1, 3, 1)\n",
    "sns.scatterplot(data=df, x='Sales', y='Profit')\n",
    "plt.title('Sales vs Profit')\n",
    "\n",
    "# Relación entre Discount y Profit\n",
    "plt.subplot(1, 3, 2)\n",
    "sns.scatterplot(data=df, x='Discount', y='Profit')\n",
    "plt.title('Discount vs Profit')\n",
    "\n",
    "# Profit por Category\n",
    "plt.subplot(1, 3, 3)\n",
    "sns.boxplot(data=df, x='Category', y='Profit')\n",
    "plt.title('Profit por Category')\n",
    "plt.xticks(rotation=45)\n",
    "\n",
    "plt.tight_layout()\n",
    "plt.show()\n",
    "\n",
    "# Correlaciones entre variables numéricas\n",
    "correlation_matrix = df[['Profit', 'Sales', 'Discount', 'Quantity', 'Shipping Cost']].corr()\n",
    "print(\"\\nMatriz de correlación:\")\n",
    "print(correlation_matrix['Profit'].sort_values(ascending=False))"
   ]
  },
  {
   "cell_type": "markdown",
   "id": "6cfad3be",
   "metadata": {},
   "source": [
    "## Ingeniería de Características\n",
    "\n",
    "Basándonos en el análisis exploratorio, realizaremos las siguientes transformaciones:\n",
    "\n",
    "1. Procesamiento de fechas:\n",
    "   - Crear variable de tiempo de envío\n",
    "   - Extraer mes y año de la fecha de orden\n",
    "\n",
    "2. Codificación de variables categóricas:\n",
    "   - One-hot encoding para Category, Sub-Category, Ship Mode\n",
    "   - Label encoding para variables con alta cardinalidad como Customer ID\n",
    "\n",
    "3. Eliminación de columnas redundantes o no informativas"
   ]
  },
  {
   "cell_type": "code",
   "execution_count": null,
   "id": "8e96b655",
   "metadata": {},
   "outputs": [],
   "source": [
    "# Procesamiento de fechas\n",
    "df['Order Date'] = pd.to_datetime(df['Order Date'])\n",
    "df['Ship Date'] = pd.to_datetime(df['Ship Date'])\n",
    "\n",
    "# Crear tiempo de envío (en días)\n",
    "df['shipping_time'] = (df['Ship Date'] - df['Order Date']).dt.days\n",
    "\n",
    "# Extraer mes y año\n",
    "df['order_month'] = df['Order Date'].dt.month\n",
    "df['order_year'] = df['Order Date'].dt.year\n",
    "\n",
    "# Seleccionar columnas para one-hot encoding\n",
    "categorical_columns = ['Category', 'Sub-Category', 'Ship Mode']\n",
    "onehot = OneHotEncoder(sparse_output=False)\n",
    "\n",
    "# Aplicar one-hot encoding\n",
    "onehot_encoded = onehot.fit_transform(df[categorical_columns])\n",
    "onehot_columns = []\n",
    "for i, col in enumerate(categorical_columns):\n",
    "    for j in onehot.categories_[i]:\n",
    "        onehot_columns.append(f\"{col}_{j}\")\n",
    "\n",
    "# Crear DataFrame con variables codificadas\n",
    "onehot_df = pd.DataFrame(onehot_encoded, columns=onehot_columns)\n",
    "\n",
    "# Seleccionar columnas numéricas relevantes\n",
    "numeric_columns = ['Sales', 'Quantity', 'Discount', 'Shipping Cost', \n",
    "                  'shipping_time', 'order_month', 'order_year']\n",
    "\n",
    "# Combinar features numéricas y categóricas\n",
    "X = pd.concat([df[numeric_columns].reset_index(drop=True), onehot_df], axis=1)\n",
    "y = df['Profit']\n",
    "\n",
    "# División de datos (train-test split)\n",
    "X_train, X_test, y_train, y_test = train_test_split(X, y, test_size=0.2, random_state=42)\n",
    "\n",
    "print(\"Dimensiones de los conjuntos de datos:\")\n",
    "print(f\"X_train: {X_train.shape}\")\n",
    "print(f\"X_test: {X_test.shape}\")\n",
    "print(f\"y_train: {y_train.shape}\")\n",
    "print(f\"y_test: {y_test.shape}\")\n",
    "\n",
    "# Guardar los conjuntos de datos\n",
    "X_train.to_csv('data/X_train.csv', index=False)\n",
    "X_test.to_csv('data/X_test.csv', index=False)\n",
    "y_train.to_csv('data/y_train.csv', index=False)\n",
    "y_test.to_csv('data/y_test.csv', index=False)"
   ]
  },
  {
   "cell_type": "markdown",
   "id": "15745303",
   "metadata": {},
   "source": [
    "## Fase 1: Análisis de Línea Base (Modelos Lineales)\n",
    "\n",
    "En esta fase implementaremos tres modelos de regresión:\n",
    "1. Regresión Lineal Simple\n",
    "2. Ridge (L2)\n",
    "3. Lasso (L1)\n",
    "\n",
    "Evaluaremos su rendimiento utilizando las métricas R² y RMSE, y analizaremos la importancia de las variables en la predicción."
   ]
  },
  {
   "cell_type": "code",
   "execution_count": null,
   "id": "73c127d6",
   "metadata": {},
   "outputs": [],
   "source": [
    "from sklearn.linear_model import LinearRegression, Ridge, Lasso\n",
    "from sklearn.metrics import r2_score, mean_squared_error\n",
    "import numpy as np\n",
    "\n",
    "# Cargar datos preprocesados\n",
    "X_train = pd.read_csv('data/X_train.csv')\n",
    "X_test = pd.read_csv('data/X_test.csv')\n",
    "y_train = pd.read_csv('data/y_train.csv')\n",
    "y_test = pd.read_csv('data/y_test.csv')\n",
    "\n",
    "# Convertir y_train y y_test de DataFrame a Series\n",
    "y_train = y_train.iloc[:, 0]\n",
    "y_test = y_test.iloc[:, 0]\n",
    "\n",
    "# Función para evaluar modelos\n",
    "def evaluate_model(y_true, y_pred, model_name):\n",
    "    r2 = r2_score(y_true, y_pred)\n",
    "    rmse = np.sqrt(mean_squared_error(y_true, y_pred))\n",
    "    print(f\"\\nResultados para {model_name}:\")\n",
    "    print(f\"R² Score: {r2:.4f}\")\n",
    "    print(f\"RMSE: {rmse:.2f}\")\n",
    "    return r2, rmse"
   ]
  },
  {
   "cell_type": "markdown",
   "id": "5f57217f",
   "metadata": {},
   "source": [
    "### 1. Regresión Lineal Simple\n",
    "\n",
    "Comenzamos con un modelo de regresión lineal simple como línea base para nuestras predicciones."
   ]
  },
  {
   "cell_type": "code",
   "execution_count": null,
   "id": "644afad9",
   "metadata": {},
   "outputs": [],
   "source": [
    "# Entrenar modelo de regresión lineal\n",
    "lr_model = LinearRegression()\n",
    "lr_model.fit(X_train, y_train)\n",
    "\n",
    "# Predicciones\n",
    "lr_train_pred = lr_model.predict(X_train)\n",
    "lr_test_pred = lr_model.predict(X_test)\n",
    "\n",
    "# Evaluar modelo\n",
    "print(\"Evaluación del modelo de Regresión Lineal:\")\n",
    "train_r2, train_rmse = evaluate_model(y_train, lr_train_pred, \"Regresión Lineal (train)\")\n",
    "test_r2, test_rmse = evaluate_model(y_test, lr_test_pred, \"Regresión Lineal (test)\")"
   ]
  },
  {
   "cell_type": "markdown",
   "id": "73908982",
   "metadata": {},
   "source": [
    "### 2. Regularización Ridge (L2)\n",
    "\n",
    "Implementaremos Ridge con búsqueda de hiperparámetros usando GridSearchCV para encontrar el mejor valor de alpha."
   ]
  },
  {
   "cell_type": "code",
   "execution_count": null,
   "id": "b04cba18",
   "metadata": {},
   "outputs": [],
   "source": [
    "# Importar GridSearchCV\n",
    "from sklearn.model_selection import GridSearchCV\n",
    "\n",
    "# Definir parámetros para búsqueda\n",
    "alphas = np.logspace(-4, 4, 20)\n",
    "param_grid = {'alpha': alphas}\n",
    "\n",
    "# Crear y ajustar GridSearchCV\n",
    "ridge = Ridge()\n",
    "grid_ridge = GridSearchCV(ridge, param_grid, cv=5, scoring='r2')\n",
    "grid_ridge.fit(X_train, y_train)\n",
    "\n",
    "# Mejor modelo Ridge\n",
    "best_ridge = grid_ridge.best_estimator_\n",
    "print(f\"Mejor valor de alpha para Ridge: {grid_ridge.best_params_['alpha']:.6f}\")\n",
    "\n",
    "# Predicciones con el mejor modelo Ridge\n",
    "ridge_train_pred = best_ridge.predict(X_train)\n",
    "ridge_test_pred = best_ridge.predict(X_test)\n",
    "\n",
    "# Evaluar modelo\n",
    "print(\"\\nEvaluación del modelo Ridge:\")\n",
    "ridge_train_r2, ridge_train_rmse = evaluate_model(y_train, ridge_train_pred, \"Ridge (Train)\")\n",
    "ridge_test_r2, ridge_test_rmse = evaluate_model(y_test, ridge_test_pred, \"Ridge (Test)\")"
   ]
  },
  {
   "cell_type": "markdown",
   "id": "98338094",
   "metadata": {},
   "source": [
    "### 3. Regularización Lasso (L1)\n",
    "\n",
    "Implementaremos Lasso con búsqueda de hiperparámetros. Este modelo nos ayudará a identificar las variables más importantes, ya que puede reducir coeficientes a cero."
   ]
  },
  {
   "cell_type": "code",
   "execution_count": null,
   "id": "df8706f5",
   "metadata": {},
   "outputs": [],
   "source": [
    "# Crear y ajustar GridSearchCV para Lasso\n",
    "lasso = Lasso()\n",
    "grid_lasso = GridSearchCV(lasso, param_grid, cv=5, scoring='r2')\n",
    "grid_lasso.fit(X_train, y_train)\n",
    "\n",
    "# Mejor modelo Lasso\n",
    "best_lasso = grid_lasso.best_estimator_\n",
    "print(f\"Mejor valor de alpha para Lasso: {grid_lasso.best_params_['alpha']:.6f}\")\n",
    "\n",
    "# Predicciones con el mejor modelo Lasso\n",
    "lasso_train_pred = best_lasso.predict(X_train)\n",
    "lasso_test_pred = best_lasso.predict(X_test)\n",
    "\n",
    "# Evaluar modelo\n",
    "print(\"\\nEvaluación del modelo Lasso:\")\n",
    "lasso_train_r2, lasso_train_rmse = evaluate_model(y_train, lasso_train_pred, \"Lasso (Train)\")\n",
    "lasso_test_r2, lasso_test_rmse = evaluate_model(y_test, lasso_test_pred, \"Lasso (Test)\")"
   ]
  },
  {
   "cell_type": "markdown",
   "id": "e8eba934",
   "metadata": {},
   "source": [
    "### Análisis de Coeficientes e Interpretación\n",
    "\n",
    "Analizaremos los coeficientes del modelo Lasso para entender qué variables son las más importantes para predecir el beneficio y cuáles tienen menor impacto o son eliminadas por el modelo."
   ]
  },
  {
   "cell_type": "code",
   "execution_count": null,
   "id": "979ff521",
   "metadata": {},
   "outputs": [],
   "source": [
    "# Obtener coeficientes del modelo Lasso\n",
    "feature_names = X_train.columns\n",
    "coef_df = pd.DataFrame({\n",
    "    'Feature': feature_names,\n",
    "    'Coefficient': best_lasso.coef_\n",
    "})\n",
    "\n",
    "# Ordenar coeficientes por valor absoluto\n",
    "coef_df['Abs_Coefficient'] = abs(coef_df['Coefficient'])\n",
    "coef_df_sorted = coef_df.sort_values('Abs_Coefficient', ascending=False)\n",
    "\n",
    "# Mostrar los 10 coeficientes más importantes\n",
    "print(\"Top 10 variables más importantes según Lasso:\")\n",
    "print(coef_df_sorted.head(10))\n",
    "\n",
    "# Contar variables eliminadas (coeficientes = 0)\n",
    "zero_coef = len(coef_df[coef_df['Coefficient'] == 0])\n",
    "print(f\"\\nNúmero de variables eliminadas por Lasso (coeficiente = 0): {zero_coef}\")\n",
    "\n",
    "# Visualizar coeficientes más importantes\n",
    "plt.figure(figsize=(12, 6))\n",
    "sns.barplot(data=coef_df_sorted.head(10), x='Coefficient', y='Feature')\n",
    "plt.title('Top 10 variables más importantes (Lasso)')\n",
    "plt.xlabel('Coeficiente')\n",
    "plt.tight_layout()\n",
    "plt.show()"
   ]
  },
  {
   "cell_type": "markdown",
   "id": "cb5a690d",
   "metadata": {},
   "source": [
    "### Resumen de Resultados\n",
    "\n",
    "Hemos completado el análisis de línea base utilizando tres modelos diferentes:\n",
    "1. Regresión Lineal Simple: establece nuestra línea base de rendimiento\n",
    "2. Ridge: aplica regularización L2 para controlar la complejidad del modelo\n",
    "3. Lasso: aplica regularización L1 para selección de variables\n",
    "\n",
    "Los resultados nos muestran:\n",
    "- El rendimiento base en términos de R² y RMSE\n",
    "- Las variables más importantes identificadas por Lasso\n",
    "- Qué variables fueron eliminadas por completo\n",
    "- La interpretación de los coeficientes en términos de impacto en el beneficio\n",
    "\n",
    "Esta información nos servirá como punto de partida para futuros análisis y mejoras del modelo."
   ]
  }
 ],
 "metadata": {
  "kernelspec": {
   "display_name": "Python 3",
   "language": "python",
   "name": "python3"
  },
  "language_info": {
   "codemirror_mode": {
    "name": "ipython",
    "version": 3
   },
   "file_extension": ".py",
   "mimetype": "text/x-python",
   "name": "python",
   "nbconvert_exporter": "python",
   "pygments_lexer": "ipython3",
   "version": "3.13.9"
  }
 },
 "nbformat": 4,
 "nbformat_minor": 5
}
